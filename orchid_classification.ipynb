{
  "nbformat": 4,
  "nbformat_minor": 0,
  "metadata": {
    "colab": {
      "provenance": [],
      "collapsed_sections": [],
      "mount_file_id": "1OCoUeo3SSFidOmgBCP4mfcZzmTe1oFA4",
      "authorship_tag": "ABX9TyMBUCOhkcwdAz/VAEG8sb9N",
      "include_colab_link": true
    },
    "kernelspec": {
      "name": "python3",
      "display_name": "Python 3"
    },
    "language_info": {
      "name": "python"
    },
    "accelerator": "GPU"
  },
  "cells": [
    {
      "cell_type": "markdown",
      "metadata": {
        "id": "view-in-github",
        "colab_type": "text"
      },
      "source": [
        "<a href=\"https://colab.research.google.com/github/monjjjjj/orchid_classification/blob/main/orchid_classification.ipynb\" target=\"_parent\"><img src=\"https://colab.research.google.com/assets/colab-badge.svg\" alt=\"Open In Colab\"/></a>"
      ]
    },
    {
      "cell_type": "code",
      "execution_count": 1,
      "metadata": {
        "id": "RnT0c1rxTfH1"
      },
      "outputs": [],
      "source": [
        "from tensorflow.python import keras\n",
        "import os\n",
        "import numpy as np\n",
        "import pandas as pd\n",
        "import tensorflow as tf\n",
        "import matplotlib.pyplot as plt\n",
        "import cv2 \n",
        "from tensorflow import keras\n",
        "from google.colab import drive\n",
        "from google.colab.patches import cv2_imshow\n",
        "from tensorflow.keras.utils import to_categorical\n",
        "from tensorflow.keras.preprocessing import image_dataset_from_directory\n",
        "from keras.preprocessing.image import ImageDataGenerator\n",
        "from keras import Sequential\n",
        "from keras import initializers, optimizers\n",
        "from keras.layers import Dense, Flatten, Activation, Dropout, Conv2D, MaxPooling2D, BatchNormalization\n",
        "from keras.applications.resnet import ResNet50\n",
        "from sklearn.model_selection import train_test_split\n",
        "from keras.utils import np_utils"
      ]
    },
    {
      "cell_type": "code",
      "source": [
        "# google drive mounted\n",
        "drive.mount('/content/drive')"
      ],
      "metadata": {
        "colab": {
          "base_uri": "https://localhost:8080/"
        },
        "id": "BmhKEp0OZqNU",
        "outputId": "747c856c-eca9-4d91-b66f-b3587ccd0a2c"
      },
      "execution_count": 2,
      "outputs": [
        {
          "output_type": "stream",
          "name": "stdout",
          "text": [
            "Mounted at /content/drive\n"
          ]
        }
      ]
    },
    {
      "cell_type": "code",
      "source": [
        "# read data\n",
        "labels = []\n",
        "images = []\n",
        "paths = []\n",
        "\n",
        "train_dir = \"/content/drive/MyDrive/orchid_classification/training/\"\n",
        "label_dir = \"/content/drive/MyDrive/orchid_classification/label/label.csv\"\n",
        "\n",
        "#BATCH_SIZE = 32\n",
        "#IMG_SIZE = (224, 224)\n",
        "\n",
        "#train_dataset = image_dataset_from_directory(train_dir, shuffle=True, batch_size=BATCH_SIZE, image_size=IMG_SIZE)\n",
        "\n"
      ],
      "metadata": {
        "id": "rw-qgCOEZ22M"
      },
      "execution_count": 3,
      "outputs": []
    },
    {
      "cell_type": "code",
      "source": [
        "'''\n",
        "for num in range(len(df)):\n",
        "    paths.append(os.path.join('train_dir', df['filename'][:len(df)][num]))\n",
        "    labels.append(df['category'][:len(df)][num])\n",
        "\n",
        "#print(len(paths))\n",
        "#print(paths[0:5])\n",
        "'''"
      ],
      "metadata": {
        "id": "LzcdaFvLkL8K",
        "colab": {
          "base_uri": "https://localhost:8080/",
          "height": 53
        },
        "outputId": "b794da58-1dea-4bab-8e87-a381b79b3bdf"
      },
      "execution_count": 4,
      "outputs": [
        {
          "output_type": "execute_result",
          "data": {
            "text/plain": [
              "\"\\nfor num in range(len(df)):\\n    paths.append(os.path.join('train_dir', df['filename'][:len(df)][num]))\\n    labels.append(df['category'][:len(df)][num])\\n\\n#print(len(paths))\\n#print(paths[0:5])\\n\""
            ],
            "application/vnd.google.colaboratory.intrinsic+json": {
              "type": "string"
            }
          },
          "metadata": {},
          "execution_count": 4
        }
      ]
    },
    {
      "cell_type": "code",
      "source": [
        "#read data\n",
        "def load_data():\n",
        "  x_train = []\n",
        "  y_train = []\n",
        "  df = pd.read_csv(label_dir, index_col = \"filename\")\n",
        "  for p in os.listdir(train_dir):\n",
        "    if p != \"label.csv\":\n",
        "      path = train_dir + p\n",
        "      image = cv2.imread(path)\n",
        "      image = image.astype(\"float\") / 255.0\n",
        "      image = cv2.resize(image, (224,224), interpolation = cv2.INTER_AREA)\n",
        "      x_train.append(np.array(image))\n",
        "      y_train.append(df.loc[str(p),\"category\"])\n",
        "  return x_train,y_train\n",
        "\n"
      ],
      "metadata": {
        "id": "vnWhe1PnQFkM"
      },
      "execution_count": 5,
      "outputs": []
    },
    {
      "cell_type": "code",
      "source": [
        "x_train, y_train = load_data()\n",
        "\n",
        "# one-hot encoding\n",
        "x_train = np.array(x_train)\n",
        "num_classes = 219\n",
        "y_train = np_utils.to_categorical(y_train, num_classes, dtype = 'float32')"
      ],
      "metadata": {
        "id": "weNI7FkX8n78"
      },
      "execution_count": 6,
      "outputs": []
    },
    {
      "cell_type": "code",
      "source": [
        "# debug\n",
        "#print(x_train[1:5])\n",
        "#print(y_train[1:5])\n",
        "#print(x_train.shape)\n",
        "#print(y_train.shape)"
      ],
      "metadata": {
        "id": "yARZ5qzsdv4E"
      },
      "execution_count": 7,
      "outputs": []
    },
    {
      "cell_type": "code",
      "source": [
        "# autotune\n",
        "'''\n",
        "AUTOTUNE = tf.data.AUTOTUNE\n",
        "train_dataset = train_dataset.prefetch(buffer_size=AUTOTUNE)\n",
        "'''"
      ],
      "metadata": {
        "id": "O9GhAEGS2Rt0",
        "colab": {
          "base_uri": "https://localhost:8080/",
          "height": 35
        },
        "outputId": "1b85bb28-a3ba-48d4-c990-888212a30ccf"
      },
      "execution_count": 8,
      "outputs": [
        {
          "output_type": "execute_result",
          "data": {
            "text/plain": [
              "'\\nAUTOTUNE = tf.data.AUTOTUNE\\ntrain_dataset = train_dataset.prefetch(buffer_size=AUTOTUNE)\\n'"
            ],
            "application/vnd.google.colaboratory.intrinsic+json": {
              "type": "string"
            }
          },
          "metadata": {},
          "execution_count": 8
        }
      ]
    },
    {
      "cell_type": "code",
      "source": [
        "# check all the files are images\n",
        "'''\n",
        "def start(Path):\n",
        "    filelist = os.listdir(Path)\n",
        "    for file in filelist:\n",
        "        print(file)\n",
        "        img = Image.open(Path+ file).convert('RGB')\n",
        "    #     # print(img)\n",
        "        img.save(Path + file)\n",
        "    print('Done!')\n",
        "if __name__ == '__main__':\n",
        "    start('/content/drive/MyDrive/orchid_classification/training/')\n",
        "'''"
      ],
      "metadata": {
        "id": "9uqaRW7WNPpR",
        "colab": {
          "base_uri": "https://localhost:8080/",
          "height": 71
        },
        "outputId": "417376b1-bfcc-499f-f52a-70ccc243970e"
      },
      "execution_count": 9,
      "outputs": [
        {
          "output_type": "execute_result",
          "data": {
            "text/plain": [
              "\"\\ndef start(Path):\\n    filelist = os.listdir(Path)\\n    for file in filelist:\\n        print(file)\\n        img = Image.open(Path+ file).convert('RGB')\\n    #     # print(img)\\n        img.save(Path + file)\\n    print('Done!')\\nif __name__ == '__main__':\\n    start('/content/drive/MyDrive/orchid_classification/training/')\\n\""
            ],
            "application/vnd.google.colaboratory.intrinsic+json": {
              "type": "string"
            }
          },
          "metadata": {},
          "execution_count": 9
        }
      ]
    },
    {
      "cell_type": "code",
      "source": [
        "# read data\n",
        "'''\n",
        "def read_image(paths):\n",
        "  for path in paths:\n",
        "    image = cv2.imread(path, cv2.COLOR_GRAY2BGR)\n",
        "    image = image.astype(\"float\") / 255.0\n",
        "    image = cv2.resize(image,(224,224))\n",
        "    images.append(image)\n",
        "\n",
        "read_image('/content/drive/MyDrive/orchid_classification/training/')\n",
        "images = np.asarray(images)\n",
        "images = images.reshape((-1, 224, 224, 3))\n",
        "labels = to_categorical(labels, 219)\n",
        "print(1, labels)\n",
        "'''"
      ],
      "metadata": {
        "id": "5lIy3cRi5eF6",
        "colab": {
          "base_uri": "https://localhost:8080/",
          "height": 89
        },
        "outputId": "473fbf25-70f0-4ecb-c1d6-8373600518de"
      },
      "execution_count": 10,
      "outputs": [
        {
          "output_type": "execute_result",
          "data": {
            "text/plain": [
              "'\\ndef read_image(paths):\\n  for path in paths:\\n    image = cv2.imread(path, cv2.COLOR_GRAY2BGR)\\n    image = image.astype(\"float\") / 255.0\\n    image = cv2.resize(image,(224,224))\\n    images.append(image)\\n\\nread_image(\\'/content/drive/MyDrive/orchid_classification/training/\\')\\nimages = np.asarray(images)\\nimages = images.reshape((-1, 224, 224, 3))\\nlabels = to_categorical(labels, 219)\\nprint(1, labels)\\n'"
            ],
            "application/vnd.google.colaboratory.intrinsic+json": {
              "type": "string"
            }
          },
          "metadata": {},
          "execution_count": 10
        }
      ]
    },
    {
      "cell_type": "code",
      "source": [
        "'''\n",
        "# data augmentation\n",
        "data_augmentation = tf.keras.Sequential([\n",
        "  tf.keras.layers.experimental.preprocessing.RandomFlip('horizontal'),\n",
        "  tf.keras.layers.experimental.preprocessing.RandomRotation(0.2),\n",
        "])\n",
        "'''"
      ],
      "metadata": {
        "id": "rImh8Bih2Y4t",
        "colab": {
          "base_uri": "https://localhost:8080/",
          "height": 53
        },
        "outputId": "629e6b54-3b7c-42ae-c249-3bf3bef5391d"
      },
      "execution_count": 11,
      "outputs": [
        {
          "output_type": "execute_result",
          "data": {
            "text/plain": [
              "\"\\n# data augmentation\\ndata_augmentation = tf.keras.Sequential([\\n  tf.keras.layers.experimental.preprocessing.RandomFlip('horizontal'),\\n  tf.keras.layers.experimental.preprocessing.RandomRotation(0.2),\\n])\\n\""
            ],
            "application/vnd.google.colaboratory.intrinsic+json": {
              "type": "string"
            }
          },
          "metadata": {},
          "execution_count": 11
        }
      ]
    },
    {
      "cell_type": "code",
      "source": [
        "'''\n",
        "#data augmentation\n",
        "datagen = ImageDataGenerator(\n",
        "        featurewise_center=False,  # set input mean to 0 over the dataset\n",
        "        samplewise_center=False,  # set each sample mean to 0\n",
        "        featurewise_std_normalization=False,  # divide inputs by std of the dataset\n",
        "        samplewise_std_normalization=False,  # divide each input by its std\n",
        "        zca_whitening=False,  # apply ZCA whitening\n",
        "        rotation_range = 30,  # randomly rotate images in the range (degrees, 0 to 180)\n",
        "        zoom_range = 0.2, # Randomly zoom image \n",
        "        width_shift_range=0.1,  # randomly shift images horizontally (fraction of total width)\n",
        "        height_shift_range=0.1,  # randomly shift images vertically (fraction of total height)\n",
        "        horizontal_flip = True,  # randomly flip images\n",
        "        vertical_flip=False)  # randomly flip images\n",
        "\n",
        "\n",
        "datagen.fit(x_train)\n",
        "'''"
      ],
      "metadata": {
        "id": "l3uD7ixtF-Fl",
        "colab": {
          "base_uri": "https://localhost:8080/",
          "height": 160
        },
        "outputId": "bba8a623-dc34-415b-c918-8d6c8c22f3d8"
      },
      "execution_count": 12,
      "outputs": [
        {
          "output_type": "execute_result",
          "data": {
            "text/plain": [
              "'\\n#data augmentation\\ndatagen = ImageDataGenerator(\\n        featurewise_center=False,  # set input mean to 0 over the dataset\\n        samplewise_center=False,  # set each sample mean to 0\\n        featurewise_std_normalization=False,  # divide inputs by std of the dataset\\n        samplewise_std_normalization=False,  # divide each input by its std\\n        zca_whitening=False,  # apply ZCA whitening\\n        rotation_range = 30,  # randomly rotate images in the range (degrees, 0 to 180)\\n        zoom_range = 0.2, # Randomly zoom image \\n        width_shift_range=0.1,  # randomly shift images horizontally (fraction of total width)\\n        height_shift_range=0.1,  # randomly shift images vertically (fraction of total height)\\n        horizontal_flip = True,  # randomly flip images\\n        vertical_flip=False)  # randomly flip images\\n\\n\\ndatagen.fit(x_train)\\n'"
            ],
            "application/vnd.google.colaboratory.intrinsic+json": {
              "type": "string"
            }
          },
          "metadata": {},
          "execution_count": 12
        }
      ]
    },
    {
      "cell_type": "code",
      "source": [
        "# build model\n",
        "def build_model():\n",
        "  model = Sequential()\n",
        "  model.add(ResNet50(include_top=False, weights='imagenet', input_tensor=None, pooling='avg', classes=219, input_shape=(224, 224, 3)))\n",
        "  model.add(Flatten())\n",
        "  model.add(Dense(219,activation='softmax'))\n",
        "\n",
        "  model.compile(optimizer='adam', loss='categorical_crossentropy', metrics=['accuracy'])\n",
        "  print(model.summary())\n",
        "  keras.utils.plot_model(model, show_shapes=True, dpi=64, to_file='model2.png')\n",
        "\n",
        "  return model"
      ],
      "metadata": {
        "id": "zu1iCGMMgxrY"
      },
      "execution_count": 13,
      "outputs": []
    },
    {
      "cell_type": "code",
      "source": [
        "#training\n",
        "model = build_model()\n",
        "\n",
        "train_history = model.fit(x=x_train, y=y_train, batch_size=32, epochs=20, verbose=1)\n"
      ],
      "metadata": {
        "colab": {
          "base_uri": "https://localhost:8080/"
        },
        "id": "a3Nfqw8CmolJ",
        "outputId": "94a5ae64-20ad-44f3-a3df-11b3bfb1bfa3"
      },
      "execution_count": 14,
      "outputs": [
        {
          "output_type": "stream",
          "name": "stdout",
          "text": [
            "Downloading data from https://storage.googleapis.com/tensorflow/keras-applications/resnet/resnet50_weights_tf_dim_ordering_tf_kernels_notop.h5\n",
            "94773248/94765736 [==============================] - 1s 0us/step\n",
            "94781440/94765736 [==============================] - 1s 0us/step\n",
            "Model: \"sequential\"\n",
            "_________________________________________________________________\n",
            " Layer (type)                Output Shape              Param #   \n",
            "=================================================================\n",
            " resnet50 (Functional)       (None, 2048)              23587712  \n",
            "                                                                 \n",
            " flatten (Flatten)           (None, 2048)              0         \n",
            "                                                                 \n",
            " dense (Dense)               (None, 219)               448731    \n",
            "                                                                 \n",
            "=================================================================\n",
            "Total params: 24,036,443\n",
            "Trainable params: 23,983,323\n",
            "Non-trainable params: 53,120\n",
            "_________________________________________________________________\n",
            "None\n",
            "Epoch 1/20\n",
            "69/69 [==============================] - 39s 316ms/step - loss: 5.0975 - accuracy: 0.0516\n",
            "Epoch 2/20\n",
            "69/69 [==============================] - 21s 301ms/step - loss: 3.2223 - accuracy: 0.2123\n",
            "Epoch 3/20\n",
            "69/69 [==============================] - 21s 305ms/step - loss: 2.0383 - accuracy: 0.4525\n",
            "Epoch 4/20\n",
            "69/69 [==============================] - 21s 307ms/step - loss: 1.2367 - accuracy: 0.6370\n",
            "Epoch 5/20\n",
            "69/69 [==============================] - 21s 311ms/step - loss: 0.7502 - accuracy: 0.7854\n",
            "Epoch 6/20\n",
            "69/69 [==============================] - 22s 312ms/step - loss: 0.4370 - accuracy: 0.8763\n",
            "Epoch 7/20\n",
            "69/69 [==============================] - 22s 314ms/step - loss: 0.2472 - accuracy: 0.9393\n",
            "Epoch 8/20\n",
            "69/69 [==============================] - 22s 316ms/step - loss: 0.1343 - accuracy: 0.9694\n",
            "Epoch 9/20\n",
            "69/69 [==============================] - 22s 317ms/step - loss: 0.0898 - accuracy: 0.9826\n",
            "Epoch 10/20\n",
            "69/69 [==============================] - 22s 319ms/step - loss: 0.0877 - accuracy: 0.9813\n",
            "Epoch 11/20\n",
            "69/69 [==============================] - 22s 320ms/step - loss: 0.0985 - accuracy: 0.9767\n",
            "Epoch 12/20\n",
            "69/69 [==============================] - 22s 321ms/step - loss: 0.0655 - accuracy: 0.9840\n",
            "Epoch 13/20\n",
            "69/69 [==============================] - 22s 326ms/step - loss: 0.1246 - accuracy: 0.9685\n",
            "Epoch 14/20\n",
            "69/69 [==============================] - 23s 337ms/step - loss: 0.1091 - accuracy: 0.9694\n",
            "Epoch 15/20\n",
            "69/69 [==============================] - 23s 333ms/step - loss: 0.1956 - accuracy: 0.9507\n",
            "Epoch 16/20\n",
            "69/69 [==============================] - 23s 326ms/step - loss: 0.1581 - accuracy: 0.9603\n",
            "Epoch 17/20\n",
            "69/69 [==============================] - 23s 328ms/step - loss: 0.0771 - accuracy: 0.9817\n",
            "Epoch 18/20\n",
            "69/69 [==============================] - 23s 332ms/step - loss: 0.0362 - accuracy: 0.9886\n",
            "Epoch 19/20\n",
            "69/69 [==============================] - 23s 329ms/step - loss: 0.0694 - accuracy: 0.9826\n",
            "Epoch 20/20\n",
            "69/69 [==============================] - 23s 329ms/step - loss: 0.0727 - accuracy: 0.9831\n"
          ]
        }
      ]
    },
    {
      "cell_type": "code",
      "source": [
        "print(train_history.history.keys())"
      ],
      "metadata": {
        "id": "l6c7FkfP_UBo",
        "outputId": "f2a369ca-e046-48a2-e9cf-541631376d77",
        "colab": {
          "base_uri": "https://localhost:8080/"
        }
      },
      "execution_count": 15,
      "outputs": [
        {
          "output_type": "stream",
          "name": "stdout",
          "text": [
            "dict_keys(['loss', 'accuracy'])\n"
          ]
        }
      ]
    },
    {
      "cell_type": "code",
      "source": [
        "def show_train_history(train_history,train,validation):\n",
        "  \n",
        "  if train == 'accuracy':\n",
        "    plt.plot(train_history.history[train])\n",
        "    #plt.plot(train_history.history[validation])\n",
        "    plt.title('Model Accuracy')\n",
        "    plt.ylabel('accuracy')\n",
        "    plt.xlabel('epoch')\n",
        "  else:\n",
        "    plt.plot(train_history.history[train])\n",
        "    #plt.plot(train_history.history[validation])\n",
        "    plt.title('Model Loss')\n",
        "    plt.ylabel('loss')\n",
        "    plt.xlabel('epoch')\n",
        "\n",
        "  plt.legend(['train','validation'],loc='upper left')\n",
        "  plt.show()\n",
        "\n",
        "show_train_history(train_history,'accuracy','val_accuracy')\n",
        "show_train_history(train_history,'loss','val_loss')"
      ],
      "metadata": {
        "id": "P-BAuDou_Xfg",
        "outputId": "49e34955-2432-4433-91a9-c191a6e3510d",
        "colab": {
          "base_uri": "https://localhost:8080/",
          "height": 573
        }
      },
      "execution_count": 17,
      "outputs": [
        {
          "output_type": "display_data",
          "data": {
            "text/plain": [
              "<Figure size 432x288 with 1 Axes>"
            ],
            "image/png": "[encoded data removed]"
          },
          "metadata": {
            "needs_background": "light"
          }
        },
        {
          "output_type": "display_data",
          "data": {
            "text/plain": [
              "<Figure size 432x288 with 1 Axes>"
            ],
            "image/png": "[encoded data removed]"
          },
          "metadata": {
            "needs_background": "light"
          }
        }
      ]
    },
    {
      "cell_type": "code",
      "source": [
        "# summarize history for accuracy\n",
        "plt.plot(train_history.history['accuracy'])\n",
        "#plt.plot(train_history.history['val_accuracy'])\n",
        "plt.title('model accuracy')\n",
        "plt.ylabel('accuracy')\n",
        "plt.xlabel('epoch')\n",
        "plt.legend(['train', 'validation'], loc='upper left') \n",
        "plt.show()"
      ],
      "metadata": {
        "id": "C00pPISM_ayG",
        "outputId": "9b4c7f97-a39f-4dec-e352-cff3964c7903",
        "colab": {
          "base_uri": "https://localhost:8080/",
          "height": 295
        }
      },
      "execution_count": 19,
      "outputs": [
        {
          "output_type": "display_data",
          "data": {
            "text/plain": [
              "<Figure size 432x288 with 1 Axes>"
            ],
            "image/png": "[encoded data removed]"
          },
          "metadata": {
            "needs_background": "light"
          }
        }
      ]
    }
  ]
}