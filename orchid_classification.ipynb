{
  "cells": [
    {
      "cell_type": "markdown",
      "metadata": {
        "id": "view-in-github",
        "colab_type": "text"
      },
      "source": [
        "<a href=\"https://colab.research.google.com/github/monjjjjj/orchid_classification/blob/main/orchid_classification.ipynb\" target=\"_parent\"><img src=\"https://colab.research.google.com/assets/colab-badge.svg\" alt=\"Open In Colab\"/></a>"
      ]
    },
    {
      "cell_type": "code",
      "execution_count": 25,
      "metadata": {
        "id": "RnT0c1rxTfH1"
      },
      "outputs": [],
      "source": [
        "from tensorflow.python import keras\n",
        "import os\n",
        "import numpy as np\n",
        "import pandas as pd\n",
        "import tensorflow as tf\n",
        "import matplotlib.pyplot as plt\n",
        "import cv2 \n",
        "from tensorflow import keras\n",
        "from google.colab import drive\n",
        "from google.colab.patches import cv2_imshow\n",
        "from tensorflow.keras.utils import to_categorical\n",
        "from tensorflow.keras.preprocessing import image_dataset_from_directory\n",
        "from keras.preprocessing.image import ImageDataGenerator\n",
        "from keras import Sequential\n",
        "from keras import initializers, optimizers\n",
        "from keras.layers import Dense, Flatten, Activation, Dropout, Conv2D, MaxPooling2D, BatchNormalization\n",
        "from keras.applications.resnet import ResNet50\n",
        "from sklearn.model_selection import train_test_split\n",
        "from keras.utils import np_utils"
      ]
    },
    {
      "cell_type": "code",
      "execution_count": 26,
      "metadata": {
        "colab": {
          "base_uri": "https://localhost:8080/"
        },
        "id": "BmhKEp0OZqNU",
        "outputId": "fac14b9f-8e65-4f81-e68a-152941c6946f"
      },
      "outputs": [
        {
          "output_type": "stream",
          "name": "stdout",
          "text": [
            "Drive already mounted at /content/drive; to attempt to forcibly remount, call drive.mount(\"/content/drive\", force_remount=True).\n"
          ]
        }
      ],
      "source": [
        "# google drive mounted\n",
        "drive.mount('/content/drive')"
      ]
    },
    {
      "cell_type": "code",
      "execution_count": 27,
      "metadata": {
        "id": "rw-qgCOEZ22M"
      },
      "outputs": [],
      "source": [
        "# data path\n",
        "train_dir = \"/content/drive/MyDrive/orchid_classification/training/\"\n",
        "label_dir = \"/content/drive/MyDrive/orchid_classification/label/label.csv\"\n",
        "\n",
        "BATCH_SIZE = 32\n",
        "IMG_SIZE = (224, 224)"
      ]
    },
    {
      "cell_type": "code",
      "execution_count": 28,
      "metadata": {
        "id": "vnWhe1PnQFkM"
      },
      "outputs": [],
      "source": [
        "# read data\n",
        "def load_data():\n",
        "  x_train = []\n",
        "  y_train = []\n",
        "  df = pd.read_csv(label_dir, index_col = \"filename\")\n",
        "  for p in os.listdir(train_dir):\n",
        "    if p != \"label.csv\":\n",
        "      path = train_dir + p\n",
        "      image = cv2.imread(path)\n",
        "      image = image.astype(\"float\") / 255.0\n",
        "      image = cv2.resize(image, IMG_SIZE, interpolation = cv2.INTER_AREA)\n",
        "      x_train.append(np.array(image))\n",
        "      y_train.append(df.loc[str(p),\"category\"])\n",
        "  return x_train,y_train\n",
        "\n"
      ]
    },
    {
      "cell_type": "code",
      "execution_count": 29,
      "metadata": {
        "id": "weNI7FkX8n78"
      },
      "outputs": [],
      "source": [
        "# load data\n",
        "x_train, y_train = load_data()\n",
        "\n",
        "# one-hot encoding\n",
        "x_train = np.array(x_train)\n",
        "num_classes = 219\n",
        "y_train = np_utils.to_categorical(y_train, num_classes, dtype = 'float32')"
      ]
    },
    {
      "cell_type": "code",
      "execution_count": 30,
      "metadata": {
        "id": "yARZ5qzsdv4E"
      },
      "outputs": [],
      "source": [
        "# debug\n",
        "#print(x_train[1:5])\n",
        "#print(y_train[1:5])\n",
        "#print(x_train.shape)\n",
        "#print(y_train.shape)"
      ]
    },
    {
      "cell_type": "code",
      "source": [
        "# spilt data\n",
        "x_train1, x_test1, y_train1, y_test1 = train_test_split(x_train, y_train, train_size=0.8, test_size=0.2, random_state=0)"
      ],
      "metadata": {
        "id": "tDx8SCtjSiGc"
      },
      "execution_count": 31,
      "outputs": []
    },
    {
      "cell_type": "code",
      "execution_count": 32,
      "metadata": {
        "colab": {
          "base_uri": "https://localhost:8080/",
          "height": 35
        },
        "id": "O9GhAEGS2Rt0",
        "outputId": "9e77322f-85c0-4979-8b6c-78ff78ee1bd7"
      },
      "outputs": [
        {
          "output_type": "execute_result",
          "data": {
            "text/plain": [
              "'\\nAUTOTUNE = tf.data.AUTOTUNE\\ntrain_dataset = train_dataset.prefetch(buffer_size=AUTOTUNE)\\n'"
            ],
            "application/vnd.google.colaboratory.intrinsic+json": {
              "type": "string"
            }
          },
          "metadata": {},
          "execution_count": 32
        }
      ],
      "source": [
        "# autotune\n",
        "'''\n",
        "AUTOTUNE = tf.data.AUTOTUNE\n",
        "train_dataset = train_dataset.prefetch(buffer_size=AUTOTUNE)\n",
        "'''"
      ]
    },
    {
      "cell_type": "code",
      "execution_count": 33,
      "metadata": {
        "colab": {
          "base_uri": "https://localhost:8080/",
          "height": 53
        },
        "id": "rImh8Bih2Y4t",
        "outputId": "faf90b3c-f9b2-427c-c5d2-06dadaf38b12"
      },
      "outputs": [
        {
          "output_type": "execute_result",
          "data": {
            "text/plain": [
              "\"\\n# data augmentation\\ndata_augmentation = tf.keras.Sequential([\\n  tf.keras.layers.experimental.preprocessing.RandomFlip('horizontal'),\\n  tf.keras.layers.experimental.preprocessing.RandomRotation(0.2),\\n])\\n\""
            ],
            "application/vnd.google.colaboratory.intrinsic+json": {
              "type": "string"
            }
          },
          "metadata": {},
          "execution_count": 33
        }
      ],
      "source": [
        "'''\n",
        "# data augmentation\n",
        "data_augmentation = tf.keras.Sequential([\n",
        "  tf.keras.layers.experimental.preprocessing.RandomFlip('horizontal'),\n",
        "  tf.keras.layers.experimental.preprocessing.RandomRotation(0.2),\n",
        "])\n",
        "'''"
      ]
    },
    {
      "cell_type": "code",
      "execution_count": 34,
      "metadata": {
        "colab": {
          "base_uri": "https://localhost:8080/",
          "height": 160
        },
        "id": "l3uD7ixtF-Fl",
        "outputId": "5c274e43-fbea-4df1-a50d-a59ba03b40f7"
      },
      "outputs": [
        {
          "output_type": "execute_result",
          "data": {
            "text/plain": [
              "'\\n#data augmentation\\ndatagen = ImageDataGenerator(\\n        featurewise_center=False,  # set input mean to 0 over the dataset\\n        samplewise_center=False,  # set each sample mean to 0\\n        featurewise_std_normalization=False,  # divide inputs by std of the dataset\\n        samplewise_std_normalization=False,  # divide each input by its std\\n        zca_whitening=False,  # apply ZCA whitening\\n        rotation_range = 30,  # randomly rotate images in the range (degrees, 0 to 180)\\n        zoom_range = 0.2, # Randomly zoom image \\n        width_shift_range=0.1,  # randomly shift images horizontally (fraction of total width)\\n        height_shift_range=0.1,  # randomly shift images vertically (fraction of total height)\\n        horizontal_flip = True,  # randomly flip images\\n        vertical_flip=False)  # randomly flip images\\n\\n\\ndatagen.fit(x_train)\\n'"
            ],
            "application/vnd.google.colaboratory.intrinsic+json": {
              "type": "string"
            }
          },
          "metadata": {},
          "execution_count": 34
        }
      ],
      "source": [
        "'''\n",
        "#data augmentation\n",
        "datagen = ImageDataGenerator(\n",
        "        featurewise_center=False,  # set input mean to 0 over the dataset\n",
        "        samplewise_center=False,  # set each sample mean to 0\n",
        "        featurewise_std_normalization=False,  # divide inputs by std of the dataset\n",
        "        samplewise_std_normalization=False,  # divide each input by its std\n",
        "        zca_whitening=False,  # apply ZCA whitening\n",
        "        rotation_range = 30,  # randomly rotate images in the range (degrees, 0 to 180)\n",
        "        zoom_range = 0.2, # Randomly zoom image \n",
        "        width_shift_range=0.1,  # randomly shift images horizontally (fraction of total width)\n",
        "        height_shift_range=0.1,  # randomly shift images vertically (fraction of total height)\n",
        "        horizontal_flip = True,  # randomly flip images\n",
        "        vertical_flip=False)  # randomly flip images\n",
        "\n",
        "\n",
        "datagen.fit(x_train)\n",
        "'''"
      ]
    },
    {
      "cell_type": "code",
      "execution_count": 35,
      "metadata": {
        "id": "zu1iCGMMgxrY"
      },
      "outputs": [],
      "source": [
        "# build model\n",
        "def build_model():\n",
        "  model = Sequential()\n",
        "  model.add(ResNet50(include_top=False, weights='imagenet', input_tensor=None, pooling='avg', classes=219, input_shape=(224, 224, 3)))\n",
        "  model.add(Flatten())\n",
        "  model.add(Dense(219,activation='softmax'))\n",
        "\n",
        "  model.compile(optimizer='adam', loss='categorical_crossentropy', metrics=['accuracy'])\n",
        "  print(model.summary())\n",
        "  keras.utils.plot_model(model, show_shapes=True, dpi=64, to_file='model2.png')\n",
        "\n",
        "  return model"
      ]
    },
    {
      "cell_type": "code",
      "execution_count": 36,
      "metadata": {
        "colab": {
          "base_uri": "https://localhost:8080/"
        },
        "id": "a3Nfqw8CmolJ",
        "outputId": "1aac28c0-e880-4d44-d54d-237c6eea4504"
      },
      "outputs": [
        {
          "output_type": "stream",
          "name": "stdout",
          "text": [
            "Model: \"sequential_1\"\n",
            "_________________________________________________________________\n",
            " Layer (type)                Output Shape              Param #   \n",
            "=================================================================\n",
            " resnet50 (Functional)       (None, 2048)              23587712  \n",
            "                                                                 \n",
            " flatten_1 (Flatten)         (None, 2048)              0         \n",
            "                                                                 \n",
            " dense_1 (Dense)             (None, 219)               448731    \n",
            "                                                                 \n",
            "=================================================================\n",
            "Total params: 24,036,443\n",
            "Trainable params: 23,983,323\n",
            "Non-trainable params: 53,120\n",
            "_________________________________________________________________\n",
            "None\n",
            "Epoch 1/20\n",
            "69/69 [==============================] - 30s 340ms/step - loss: 5.1558 - accuracy: 0.0507\n",
            "Epoch 2/20\n",
            "69/69 [==============================] - 22s 322ms/step - loss: 3.2224 - accuracy: 0.2169\n",
            "Epoch 3/20\n",
            "69/69 [==============================] - 22s 318ms/step - loss: 2.0202 - accuracy: 0.4429\n",
            "Epoch 4/20\n",
            "69/69 [==============================] - 22s 316ms/step - loss: 1.1864 - accuracy: 0.6662\n",
            "Epoch 5/20\n",
            "69/69 [==============================] - 22s 318ms/step - loss: 0.6526 - accuracy: 0.8128\n",
            "Epoch 6/20\n",
            "69/69 [==============================] - 22s 320ms/step - loss: 0.3340 - accuracy: 0.9110\n",
            "Epoch 7/20\n",
            "69/69 [==============================] - 22s 320ms/step - loss: 0.1823 - accuracy: 0.9557\n",
            "Epoch 8/20\n",
            "69/69 [==============================] - 22s 318ms/step - loss: 0.1287 - accuracy: 0.9658\n",
            "Epoch 9/20\n",
            "69/69 [==============================] - 22s 318ms/step - loss: 0.1019 - accuracy: 0.9776\n",
            "Epoch 10/20\n",
            "69/69 [==============================] - 22s 318ms/step - loss: 0.0685 - accuracy: 0.9840\n",
            "Epoch 11/20\n",
            "69/69 [==============================] - 22s 318ms/step - loss: 0.1838 - accuracy: 0.9539\n",
            "Epoch 12/20\n",
            "69/69 [==============================] - 22s 318ms/step - loss: 0.1972 - accuracy: 0.9475\n",
            "Epoch 13/20\n",
            "69/69 [==============================] - 22s 318ms/step - loss: 0.1164 - accuracy: 0.9731\n",
            "Epoch 14/20\n",
            "69/69 [==============================] - 22s 318ms/step - loss: 0.0798 - accuracy: 0.9813\n",
            "Epoch 15/20\n",
            "69/69 [==============================] - 22s 319ms/step - loss: 0.0392 - accuracy: 0.9922\n",
            "Epoch 16/20\n",
            "69/69 [==============================] - 22s 319ms/step - loss: 0.0198 - accuracy: 0.9968\n",
            "Epoch 17/20\n",
            "69/69 [==============================] - 22s 319ms/step - loss: 0.0407 - accuracy: 0.9932\n",
            "Epoch 18/20\n",
            "69/69 [==============================] - 22s 319ms/step - loss: 0.0211 - accuracy: 0.9968\n",
            "Epoch 19/20\n",
            "69/69 [==============================] - 22s 319ms/step - loss: 0.0055 - accuracy: 0.9991\n",
            "Epoch 20/20\n",
            "69/69 [==============================] - 22s 318ms/step - loss: 0.0046 - accuracy: 0.9982\n"
          ]
        }
      ],
      "source": [
        "#training\n",
        "model = build_model()\n",
        "\n",
        "train_history = model.fit(x=x_train, y=y_train, batch_size= BATCH_SIZE, epochs=20, verbose=1)\n"
      ]
    },
    {
      "cell_type": "code",
      "execution_count": 37,
      "metadata": {
        "id": "l6c7FkfP_UBo",
        "colab": {
          "base_uri": "https://localhost:8080/"
        },
        "outputId": "4f380689-e0a2-4593-b6db-bb97c6a545a8"
      },
      "outputs": [
        {
          "output_type": "stream",
          "name": "stdout",
          "text": [
            "dict_keys(['loss', 'accuracy'])\n"
          ]
        }
      ],
      "source": [
        "print(train_history.history.keys())"
      ]
    },
    {
      "cell_type": "code",
      "execution_count": 38,
      "metadata": {
        "id": "P-BAuDou_Xfg",
        "colab": {
          "base_uri": "https://localhost:8080/",
          "height": 573
        },
        "outputId": "a3a782f9-6a82-4014-b148-b69def9cf70e"
      },
      "outputs": [
        {
          "output_type": "display_data",
          "data": {
            "text/plain": [
              "<Figure size 432x288 with 1 Axes>"
            ],
            "image/png": "[encoded data removed]"
          },
          "metadata": {
            "needs_background": "light"
          }
        },
        {
          "output_type": "display_data",
          "data": {
            "text/plain": [
              "<Figure size 432x288 with 1 Axes>"
            ],
            "image/png": "[encoded data removed]"
          },
          "metadata": {
            "needs_background": "light"
          }
        }
      ],
      "source": [
        "def show_train_history(train_history,train,validation):\n",
        "  \n",
        "  if train == 'accuracy':\n",
        "    plt.plot(train_history.history[train])\n",
        "    #plt.plot(train_history.history[validation])\n",
        "    plt.title('Model Accuracy')\n",
        "    plt.ylabel('accuracy')\n",
        "    plt.xlabel('epoch')\n",
        "  else:\n",
        "    plt.plot(train_history.history[train])\n",
        "    #plt.plot(train_history.history[validation])\n",
        "    plt.title('Model Loss')\n",
        "    plt.ylabel('loss')\n",
        "    plt.xlabel('epoch')\n",
        "\n",
        "  plt.legend(['train','validation'],loc='upper left')\n",
        "  plt.show()\n",
        "\n",
        "show_train_history(train_history,'accuracy','val_accuracy')\n",
        "show_train_history(train_history,'loss','val_loss')"
      ]
    },
    {
      "cell_type": "code",
      "execution_count": 39,
      "metadata": {
        "id": "C00pPISM_ayG",
        "colab": {
          "base_uri": "https://localhost:8080/",
          "height": 295
        },
        "outputId": "20a24fd2-0006-47dd-ce4c-100013ef1bb1"
      },
      "outputs": [
        {
          "output_type": "display_data",
          "data": {
            "text/plain": [
              "<Figure size 432x288 with 1 Axes>"
            ],
            "image/png": "[encoded data removed]"
          },
          "metadata": {
            "needs_background": "light"
          }
        }
      ],
      "source": [
        "# summarize history for accuracy\n",
        "plt.plot(train_history.history['accuracy'])\n",
        "#plt.plot(train_history.history['val_accuracy'])\n",
        "plt.title('model accuracy')\n",
        "plt.ylabel('accuracy')\n",
        "plt.xlabel('epoch')\n",
        "plt.legend(['train', 'validation'], loc='upper left') \n",
        "plt.show()"
      ]
    }
  ],
  "metadata": {
    "accelerator": "GPU",
    "colab": {
      "collapsed_sections": [],
      "provenance": [],
      "mount_file_id": "1OCoUeo3SSFidOmgBCP4mfcZzmTe1oFA4",
      "authorship_tag": "ABX9TyPxGNYGIZK/3snrqP/BL1W5",
      "include_colab_link": true
    },
    "kernelspec": {
      "display_name": "Python 3",
      "name": "python3"
    },
    "language_info": {
      "name": "python"
    }
  },
  "nbformat": 4,
  "nbformat_minor": 0
}