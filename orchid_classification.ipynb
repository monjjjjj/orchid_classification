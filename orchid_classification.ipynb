{
  "nbformat": 4,
  "nbformat_minor": 0,
  "metadata": {
    "colab": {
      "provenance": [],
      "collapsed_sections": [],
      "mount_file_id": "1OCoUeo3SSFidOmgBCP4mfcZzmTe1oFA4",
      "authorship_tag": "ABX9TyMd4ziXHFQnlPV4KqviitPC",
      "include_colab_link": true
    },
    "kernelspec": {
      "name": "python3",
      "display_name": "Python 3"
    },
    "language_info": {
      "name": "python"
    },
    "accelerator": "GPU"
  },
  "cells": [
    {
      "cell_type": "markdown",
      "metadata": {
        "id": "view-in-github",
        "colab_type": "text"
      },
      "source": [
        "<a href=\"https://colab.research.google.com/github/monjjjjj/orchid_classification/blob/main/orchid_classification.ipynb\" target=\"_parent\"><img src=\"https://colab.research.google.com/assets/colab-badge.svg\" alt=\"Open In Colab\"/></a>"
      ]
    },
    {
      "cell_type": "code",
      "execution_count": null,
      "metadata": {
        "id": "RnT0c1rxTfH1"
      },
      "outputs": [],
      "source": [
        "from tensorflow.python import keras\n",
        "import os\n",
        "import numpy as np\n",
        "import pandas as pd\n",
        "import tensorflow as tf\n",
        "import matplotlib.pyplot as plt\n",
        "import cv2\n",
        "from google.colab import drive\n",
        "from tensorflow.keras.utils import to_categorical\n",
        "from tensorflow.keras.preprocessing import image_dataset_from_directory\n",
        "from keras import Sequential\n",
        "from keras.layers import Dense, Activation, Dropout, Conv2D, MaxPooling2D\n",
        "from keras.applications.resnet import ResNet50\n",
        "from sklearn.model_selection import train_test_split"
      ]
    },
    {
      "cell_type": "code",
      "source": [
        "# google drive mounted\n",
        "drive.mount('/content/drive')"
      ],
      "metadata": {
        "colab": {
          "base_uri": "https://localhost:8080/"
        },
        "id": "BmhKEp0OZqNU",
        "outputId": "6c4661e0-e5ad-404a-9822-fa502978c57b"
      },
      "execution_count": null,
      "outputs": [
        {
          "output_type": "stream",
          "name": "stdout",
          "text": [
            "Drive already mounted at /content/drive; to attempt to forcibly remount, call drive.mount(\"/content/drive\", force_remount=True).\n"
          ]
        }
      ]
    },
    {
      "cell_type": "code",
      "source": [
        "# read data\n",
        "labels = []\n",
        "images = []\n",
        "paths = []\n",
        "\n",
        "train_dir = '/content/drive/MyDrive/orchid_classification'\n",
        "df = pd.read_csv(\"label.csv\")\n",
        "\n",
        "BATCH_SIZE = 32\n",
        "IMG_SIZE = (224, 224)\n",
        "\n",
        "train_dataset = image_dataset_from_directory(train_dir,\n",
        "                                             shuffle=True,\n",
        "                                             batch_size=BATCH_SIZE,\n",
        "                                             image_size=IMG_SIZE)\n",
        "\n"
      ],
      "metadata": {
        "colab": {
          "base_uri": "https://localhost:8080/"
        },
        "id": "rw-qgCOEZ22M",
        "outputId": "6feef872-bd83-4f4a-e093-aa3567f28521"
      },
      "execution_count": null,
      "outputs": [
        {
          "output_type": "stream",
          "name": "stdout",
          "text": [
            "Found 2191 files belonging to 1 classes.\n"
          ]
        }
      ]
    },
    {
      "cell_type": "code",
      "source": [
        "def read_image(paths):\n",
        "  for path in paths:\n",
        "    image = cv2.imread(path, cv2.COLOR_GRAY2BGR)\n",
        "    image = image.astype(\"float\") / 255.0\n",
        "    image = cv2.resize(image,(224,224))\n",
        "    images.append(image)\n",
        "\n",
        "for num in range(len(df)):\n",
        "    paths.append(os.path.join(train_dir, df['filename'][:len(df)][num]))\n",
        "    labels.append(df['category'][:len(df)][num])\n",
        "\n",
        "read_image(paths)\n",
        "images = np.asarray(images)\n",
        "images = images.reshape((-1, 224, 224, 3))\n",
        "labels = to_categorical(labels, 219)\n",
        "print(1, labels)"
      ],
      "metadata": {
        "id": "LzcdaFvLkL8K"
      },
      "execution_count": null,
      "outputs": []
    },
    {
      "cell_type": "code",
      "source": [
        "# build model\n",
        "def build_model():\n",
        "  model = Sequential()"
      ],
      "metadata": {
        "id": "zu1iCGMMgxrY"
      },
      "execution_count": null,
      "outputs": []
    }
  ]
}