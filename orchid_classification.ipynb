{
  "cells": [
    {
      "cell_type": "markdown",
      "metadata": {
        "id": "view-in-github",
        "colab_type": "text"
      },
      "source": [
        "<a href=\"https://colab.research.google.com/github/monjjjjj/orchid_classification/blob/main/orchid_classification.ipynb\" target=\"_parent\"><img src=\"https://colab.research.google.com/assets/colab-badge.svg\" alt=\"Open In Colab\"/></a>"
      ]
    },
    {
      "cell_type": "code",
      "execution_count": 1,
      "metadata": {
        "id": "RnT0c1rxTfH1"
      },
      "outputs": [],
      "source": [
        "from tensorflow.python import keras\n",
        "import os\n",
        "import numpy as np\n",
        "import pandas as pd\n",
        "import tensorflow as tf\n",
        "import matplotlib.pyplot as plt\n",
        "import cv2 \n",
        "from tensorflow import keras\n",
        "from google.colab import drive\n",
        "from google.colab.patches import cv2_imshow\n",
        "from tensorflow.keras.utils import to_categorical\n",
        "from tensorflow.keras.preprocessing import image_dataset_from_directory\n",
        "from keras.preprocessing.image import ImageDataGenerator\n",
        "from keras import Sequential\n",
        "from keras import initializers, optimizers\n",
        "from keras.layers import Dense, Flatten, Activation, Dropout, Conv2D, MaxPooling2D, BatchNormalization\n",
        "from tensorflow.keras.applications.vgg16 import VGG16\n",
        "from keras.applications.resnet import ResNet50, ResNet152\n",
        "from sklearn.model_selection import train_test_split\n",
        "from keras.utils import np_utils"
      ]
    },
    {
      "cell_type": "code",
      "execution_count": 2,
      "metadata": {
        "colab": {
          "base_uri": "https://localhost:8080/"
        },
        "id": "BmhKEp0OZqNU",
        "outputId": "fd120a28-1961-4483-a6e9-a1f6a1aa7173"
      },
      "outputs": [
        {
          "output_type": "stream",
          "name": "stdout",
          "text": [
            "Drive already mounted at /content/drive; to attempt to forcibly remount, call drive.mount(\"/content/drive\", force_remount=True).\n"
          ]
        }
      ],
      "source": [
        "# google drive mounted\n",
        "drive.mount('/content/drive')"
      ]
    },
    {
      "cell_type": "code",
      "execution_count": 3,
      "metadata": {
        "id": "rw-qgCOEZ22M"
      },
      "outputs": [],
      "source": [
        "# data path\n",
        "train_dir = \"/content/drive/MyDrive/orchid_classification/training/\"\n",
        "label_dir = \"/content/drive/MyDrive/orchid_classification/label/label.csv\"\n",
        "\n",
        "BATCH_SIZE = 32\n",
        "IMG_SIZE = (224, 224)"
      ]
    },
    {
      "cell_type": "code",
      "execution_count": 4,
      "metadata": {
        "id": "vnWhe1PnQFkM"
      },
      "outputs": [],
      "source": [
        "# read data\n",
        "def load_data():\n",
        "  x_train = []\n",
        "  y_train = []\n",
        "  df = pd.read_csv(label_dir, index_col = \"filename\")\n",
        "  for p in os.listdir(train_dir):\n",
        "    if p != \"label.csv\":\n",
        "      path = train_dir + p\n",
        "      image = cv2.imread(path)\n",
        "      image = image.astype(\"float\") / 255.0\n",
        "      image = cv2.resize(image, IMG_SIZE, interpolation = cv2.INTER_AREA)\n",
        "      x_train.append(np.array(image))\n",
        "      y_train.append(df.loc[str(p),\"category\"])\n",
        "  return x_train,y_train\n",
        "\n"
      ]
    },
    {
      "cell_type": "code",
      "execution_count": 5,
      "metadata": {
        "id": "weNI7FkX8n78"
      },
      "outputs": [],
      "source": [
        "# load data\n",
        "x_train, y_train = load_data()\n",
        "\n",
        "# one-hot encoding\n",
        "x_train = np.array(x_train)\n",
        "num_classes = 219\n",
        "y_train = np_utils.to_categorical(y_train, num_classes, dtype = 'float32')"
      ]
    },
    {
      "cell_type": "code",
      "execution_count": null,
      "metadata": {
        "id": "yARZ5qzsdv4E"
      },
      "outputs": [],
      "source": [
        "# debug\n",
        "#print(x_train[1:5])\n",
        "#print(y_train[1:5])\n",
        "#print(x_train.shape)\n",
        "#print(y_train.shape)"
      ]
    },
    {
      "cell_type": "code",
      "source": [
        "# spilt data\n",
        "x_train1, x_test1, y_train1, y_test1 = train_test_split(x_train, y_train, train_size=0.8, test_size=0.2, random_state=0, stratify = y_train)"
      ],
      "metadata": {
        "id": "tDx8SCtjSiGc"
      },
      "execution_count": 6,
      "outputs": []
    },
    {
      "cell_type": "code",
      "execution_count": null,
      "metadata": {
        "id": "rImh8Bih2Y4t"
      },
      "outputs": [],
      "source": [
        "'''\n",
        "# data augmentation\n",
        "data_augmentation = tf.keras.Sequential([\n",
        "  tf.keras.layers.experimental.preprocessing.RandomFlip('horizontal'),\n",
        "  tf.keras.layers.experimental.preprocessing.RandomRotation(0.2),\n",
        "])\n",
        "\n",
        "data_augmentation(x_train)\n",
        "'''"
      ]
    },
    {
      "cell_type": "code",
      "execution_count": 7,
      "metadata": {
        "id": "l3uD7ixtF-Fl"
      },
      "outputs": [],
      "source": [
        "#data augmentation\n",
        "datagen = ImageDataGenerator(\n",
        "        featurewise_center=False,  # set input mean to 0 over the dataset\n",
        "        samplewise_center=False,  # set each sample mean to 0\n",
        "        featurewise_std_normalization=False,  # divide inputs by std of the dataset\n",
        "        samplewise_std_normalization=False,  # divide each input by its std\n",
        "        zca_whitening=False,  # apply ZCA whitening\n",
        "        rotation_range = 5,  # randomly rotate images in the range (degrees, 0 to 180)\n",
        "        zoom_range = 0.2, # Randomly zoom image \n",
        "        width_shift_range=0.1,  # randomly shift images horizontally (fraction of total width)\n",
        "        height_shift_range=0.1,  # randomly shift images vertically (fraction of total height)\n",
        "        horizontal_flip = True,  # randomly flip images\n",
        "        vertical_flip=False)  # randomly flip images\n",
        "datagen.fit(x_train1)\n",
        "datagen.fit(x_test1)"
      ]
    },
    {
      "cell_type": "code",
      "execution_count": 8,
      "metadata": {
        "id": "zu1iCGMMgxrY"
      },
      "outputs": [],
      "source": [
        "# build model for ResNet50\n",
        "def build_model():\n",
        "  model = Sequential()\n",
        "  model.add(ResNet50(include_top=False, weights='imagenet', input_tensor=None, pooling='avg', classes=219, input_shape=(224, 224, 3)))\n",
        "  #model.add(Flatten())\n",
        "  model.add(Dense(219,activation='softmax'))\n",
        "\n",
        "  model.compile(optimizer='adam', loss='categorical_crossentropy', metrics=['accuracy'])\n",
        "  print(model.summary())\n",
        "  keras.utils.plot_model(model, show_shapes=True, dpi=64, to_file='model2.png')\n",
        "\n",
        "  return model"
      ]
    },
    {
      "cell_type": "code",
      "source": [
        "# training for ResNet50\n",
        "model = build_model()\n",
        "\n",
        "#train_history = model.fit(x=x_train, y=y_train, batch_size= BATCH_SIZE, epochs=20, verbose=1)\n",
        "train_history = model.fit_generator(datagen.flow(x_train1, y_train1, batch_size = BATCH_SIZE), validation_data=datagen.flow(x_test1, y_test1, batch_size = BATCH_SIZE), epochs = 50, verbose = 1)\n"
      ],
      "metadata": {
        "id": "qxZBQjPglCyP",
        "colab": {
          "base_uri": "https://localhost:8080/"
        },
        "outputId": "61173df5-e764-4756-ea13-07c30d651ab4"
      },
      "execution_count": 9,
      "outputs": [
        {
          "output_type": "stream",
          "name": "stdout",
          "text": [
            "Downloading data from https://storage.googleapis.com/tensorflow/keras-applications/resnet/resnet50_weights_tf_dim_ordering_tf_kernels_notop.h5\n",
            "94773248/94765736 [==============================] - 0s 0us/step\n",
            "94781440/94765736 [==============================] - 0s 0us/step\n",
            "Model: \"sequential\"\n",
            "_________________________________________________________________\n",
            " Layer (type)                Output Shape              Param #   \n",
            "=================================================================\n",
            " resnet50 (Functional)       (None, 2048)              23587712  \n",
            "                                                                 \n",
            " dense (Dense)               (None, 219)               448731    \n",
            "                                                                 \n",
            "=================================================================\n",
            "Total params: 24,036,443\n",
            "Trainable params: 23,983,323\n",
            "Non-trainable params: 53,120\n",
            "_________________________________________________________________\n",
            "None\n"
          ]
        },
        {
          "output_type": "stream",
          "name": "stderr",
          "text": [
            "/usr/local/lib/python3.7/dist-packages/ipykernel_launcher.py:5: UserWarning: `Model.fit_generator` is deprecated and will be removed in a future version. Please use `Model.fit`, which supports generators.\n",
            "  \"\"\"\n"
          ]
        },
        {
          "output_type": "stream",
          "name": "stdout",
          "text": [
            "Epoch 1/50\n",
            "55/55 [==============================] - 48s 545ms/step - loss: 5.5880 - accuracy: 0.0160 - val_loss: 20403.9512 - val_accuracy: 0.0046\n",
            "Epoch 2/50\n",
            "55/55 [==============================] - 28s 509ms/step - loss: 4.7834 - accuracy: 0.0360 - val_loss: 5.5494 - val_accuracy: 0.0046\n",
            "Epoch 3/50\n",
            "55/55 [==============================] - 27s 494ms/step - loss: 3.8218 - accuracy: 0.1187 - val_loss: 6.5151 - val_accuracy: 0.0046\n",
            "Epoch 4/50\n",
            "55/55 [==============================] - 27s 494ms/step - loss: 2.8855 - accuracy: 0.2471 - val_loss: 5.9632 - val_accuracy: 0.0046\n",
            "Epoch 5/50\n",
            "55/55 [==============================] - 27s 492ms/step - loss: 2.2880 - accuracy: 0.3642 - val_loss: 7.3257 - val_accuracy: 0.0046\n",
            "Epoch 6/50\n",
            "55/55 [==============================] - 27s 495ms/step - loss: 1.7760 - accuracy: 0.4772 - val_loss: 7.9785 - val_accuracy: 0.0046\n",
            "Epoch 7/50\n",
            "55/55 [==============================] - 27s 497ms/step - loss: 1.3996 - accuracy: 0.5902 - val_loss: 11.3427 - val_accuracy: 0.0046\n",
            "Epoch 8/50\n",
            "55/55 [==============================] - 27s 493ms/step - loss: 1.1180 - accuracy: 0.6707 - val_loss: 13.5247 - val_accuracy: 0.0046\n",
            "Epoch 9/50\n",
            "55/55 [==============================] - 27s 493ms/step - loss: 0.9228 - accuracy: 0.7329 - val_loss: 15.0842 - val_accuracy: 0.0091\n",
            "Epoch 10/50\n",
            "55/55 [==============================] - 27s 493ms/step - loss: 0.7564 - accuracy: 0.7734 - val_loss: 15.9625 - val_accuracy: 0.0046\n",
            "Epoch 11/50\n",
            "55/55 [==============================] - 27s 494ms/step - loss: 0.7120 - accuracy: 0.7854 - val_loss: 19.3911 - val_accuracy: 0.0046\n",
            "Epoch 12/50\n",
            "55/55 [==============================] - 27s 492ms/step - loss: 0.5792 - accuracy: 0.8111 - val_loss: 21.4084 - val_accuracy: 0.0046\n",
            "Epoch 13/50\n",
            "55/55 [==============================] - 27s 496ms/step - loss: 0.4972 - accuracy: 0.8613 - val_loss: 13.2273 - val_accuracy: 0.0137\n",
            "Epoch 14/50\n",
            "55/55 [==============================] - 27s 494ms/step - loss: 0.3492 - accuracy: 0.8984 - val_loss: 14.6483 - val_accuracy: 0.0046\n",
            "Epoch 15/50\n",
            "55/55 [==============================] - 27s 494ms/step - loss: 0.3113 - accuracy: 0.9081 - val_loss: 12.9811 - val_accuracy: 0.0228\n",
            "Epoch 16/50\n",
            "55/55 [==============================] - 27s 493ms/step - loss: 0.2678 - accuracy: 0.9235 - val_loss: 8.1643 - val_accuracy: 0.0753\n",
            "Epoch 17/50\n",
            "55/55 [==============================] - 27s 495ms/step - loss: 0.2290 - accuracy: 0.9298 - val_loss: 7.6647 - val_accuracy: 0.0982\n",
            "Epoch 18/50\n",
            "55/55 [==============================] - 27s 492ms/step - loss: 0.2057 - accuracy: 0.9452 - val_loss: 4.1012 - val_accuracy: 0.3014\n",
            "Epoch 19/50\n",
            "55/55 [==============================] - 27s 493ms/step - loss: 0.1876 - accuracy: 0.9463 - val_loss: 3.1852 - val_accuracy: 0.3721\n",
            "Epoch 20/50\n",
            "55/55 [==============================] - 27s 493ms/step - loss: 0.1824 - accuracy: 0.9446 - val_loss: 4.1038 - val_accuracy: 0.3379\n",
            "Epoch 21/50\n",
            "55/55 [==============================] - 27s 494ms/step - loss: 0.1617 - accuracy: 0.9555 - val_loss: 2.3303 - val_accuracy: 0.5502\n",
            "Epoch 22/50\n",
            "55/55 [==============================] - 27s 494ms/step - loss: 0.1471 - accuracy: 0.9583 - val_loss: 2.8026 - val_accuracy: 0.5046\n",
            "Epoch 23/50\n",
            "55/55 [==============================] - 27s 491ms/step - loss: 0.1764 - accuracy: 0.9566 - val_loss: 4.6133 - val_accuracy: 0.3288\n",
            "Epoch 24/50\n",
            "55/55 [==============================] - 27s 494ms/step - loss: 0.1630 - accuracy: 0.9549 - val_loss: 3.7265 - val_accuracy: 0.3493\n",
            "Epoch 25/50\n",
            "55/55 [==============================] - 27s 491ms/step - loss: 0.1513 - accuracy: 0.9561 - val_loss: 4.7756 - val_accuracy: 0.3311\n",
            "Epoch 26/50\n",
            "55/55 [==============================] - 27s 496ms/step - loss: 0.1652 - accuracy: 0.9526 - val_loss: 4.7324 - val_accuracy: 0.3128\n",
            "Epoch 27/50\n",
            "55/55 [==============================] - 27s 494ms/step - loss: 0.1320 - accuracy: 0.9635 - val_loss: 3.2116 - val_accuracy: 0.4703\n",
            "Epoch 28/50\n",
            "55/55 [==============================] - 27s 497ms/step - loss: 0.1127 - accuracy: 0.9697 - val_loss: 3.1820 - val_accuracy: 0.4589\n",
            "Epoch 29/50\n",
            "55/55 [==============================] - 27s 496ms/step - loss: 0.1050 - accuracy: 0.9692 - val_loss: 2.8022 - val_accuracy: 0.5046\n",
            "Epoch 30/50\n",
            "55/55 [==============================] - 27s 493ms/step - loss: 0.0912 - accuracy: 0.9697 - val_loss: 2.8322 - val_accuracy: 0.4726\n",
            "Epoch 31/50\n",
            "55/55 [==============================] - 27s 492ms/step - loss: 0.0793 - accuracy: 0.9789 - val_loss: 2.3582 - val_accuracy: 0.5799\n",
            "Epoch 32/50\n",
            "55/55 [==============================] - 27s 493ms/step - loss: 0.0731 - accuracy: 0.9829 - val_loss: 2.6355 - val_accuracy: 0.5639\n",
            "Epoch 33/50\n",
            "55/55 [==============================] - 27s 492ms/step - loss: 0.0894 - accuracy: 0.9806 - val_loss: 3.0368 - val_accuracy: 0.4772\n",
            "Epoch 34/50\n",
            "55/55 [==============================] - 27s 491ms/step - loss: 0.0772 - accuracy: 0.9800 - val_loss: 2.3958 - val_accuracy: 0.5502\n",
            "Epoch 35/50\n",
            "55/55 [==============================] - 27s 494ms/step - loss: 0.0940 - accuracy: 0.9703 - val_loss: 2.9702 - val_accuracy: 0.4954\n",
            "Epoch 36/50\n",
            "55/55 [==============================] - 27s 494ms/step - loss: 0.1475 - accuracy: 0.9555 - val_loss: 3.9978 - val_accuracy: 0.4452\n",
            "Epoch 37/50\n",
            "55/55 [==============================] - 27s 491ms/step - loss: 0.1203 - accuracy: 0.9669 - val_loss: 4.9183 - val_accuracy: 0.3744\n",
            "Epoch 38/50\n",
            "55/55 [==============================] - 27s 491ms/step - loss: 0.0822 - accuracy: 0.9806 - val_loss: 2.9189 - val_accuracy: 0.4886\n",
            "Epoch 39/50\n",
            "55/55 [==============================] - 27s 490ms/step - loss: 0.0687 - accuracy: 0.9795 - val_loss: 3.2335 - val_accuracy: 0.4680\n",
            "Epoch 40/50\n",
            "55/55 [==============================] - 27s 490ms/step - loss: 0.0970 - accuracy: 0.9720 - val_loss: 3.6139 - val_accuracy: 0.4384\n",
            "Epoch 41/50\n",
            "55/55 [==============================] - 27s 493ms/step - loss: 0.0928 - accuracy: 0.9720 - val_loss: 2.7250 - val_accuracy: 0.5365\n",
            "Epoch 42/50\n",
            "55/55 [==============================] - 27s 492ms/step - loss: 0.0784 - accuracy: 0.9817 - val_loss: 3.6385 - val_accuracy: 0.3881\n",
            "Epoch 43/50\n",
            "55/55 [==============================] - 27s 491ms/step - loss: 0.0653 - accuracy: 0.9823 - val_loss: 2.9439 - val_accuracy: 0.5342\n",
            "Epoch 44/50\n",
            "55/55 [==============================] - 27s 494ms/step - loss: 0.0917 - accuracy: 0.9777 - val_loss: 5.0046 - val_accuracy: 0.3288\n",
            "Epoch 45/50\n",
            "55/55 [==============================] - 27s 492ms/step - loss: 0.0679 - accuracy: 0.9817 - val_loss: 3.7818 - val_accuracy: 0.4361\n",
            "Epoch 46/50\n",
            "55/55 [==============================] - 27s 493ms/step - loss: 0.0455 - accuracy: 0.9874 - val_loss: 2.6561 - val_accuracy: 0.5388\n",
            "Epoch 47/50\n",
            "55/55 [==============================] - 27s 492ms/step - loss: 0.0567 - accuracy: 0.9857 - val_loss: 3.0049 - val_accuracy: 0.4680\n",
            "Epoch 48/50\n",
            "55/55 [==============================] - 27s 493ms/step - loss: 0.0484 - accuracy: 0.9880 - val_loss: 3.4539 - val_accuracy: 0.4817\n",
            "Epoch 49/50\n",
            "55/55 [==============================] - 27s 492ms/step - loss: 0.0344 - accuracy: 0.9914 - val_loss: 3.0406 - val_accuracy: 0.4977\n",
            "Epoch 50/50\n",
            "55/55 [==============================] - 27s 493ms/step - loss: 0.0322 - accuracy: 0.9914 - val_loss: 5.2701 - val_accuracy: 0.3402\n"
          ]
        }
      ]
    },
    {
      "cell_type": "code",
      "source": [
        "# build model for ResNet152\n",
        "def build_model1():\n",
        "  model = Sequential()\n",
        "  model.add(ResNet152(include_top=False, weights='imagenet', input_tensor=None, pooling='avg', classes=219, input_shape=(224, 224, 3)))\n",
        "  model.add(Flatten())\n",
        "  model.add(Dense(219,activation='softmax'))\n",
        "\n",
        "  model.compile(optimizer='adam', loss='categorical_crossentropy', metrics=['accuracy'])\n",
        "  print(model.summary())\n",
        "  keras.utils.plot_model(model, show_shapes=True, dpi=64, to_file='model2.png')\n",
        "\n",
        "  return model"
      ],
      "metadata": {
        "id": "5PIiPNl_KMq6"
      },
      "execution_count": null,
      "outputs": []
    },
    {
      "cell_type": "code",
      "source": [
        "# training for ResNet152\n",
        "model1 = build_model1()\n",
        "\n",
        "train_history1 = model1.fit(x=x_train, y=y_train, batch_size= BATCH_SIZE, epochs=20, verbose=1)\n"
      ],
      "metadata": {
        "id": "4cZqCfAdiv2e"
      },
      "execution_count": null,
      "outputs": []
    },
    {
      "cell_type": "code",
      "source": [
        "# build model for VGG16\n",
        "def build_model2():\n",
        "  model = Sequential()\n",
        "  model.add(VGG16(include_top= False, weights='imagenet', input_tensor=None, pooling='avg', classes=219, input_shape=(224, 224, 3)))\n",
        "  model.add(Flatten())\n",
        "  model.add(Dense(219,activation='softmax'))\n",
        "\n",
        "  model.compile(optimizer='adam', loss='categorical_crossentropy', metrics=['accuracy'])\n",
        "  print(model.summary())\n",
        "  keras.utils.plot_model(model, show_shapes=True, dpi=64, to_file='model2.png')\n",
        "\n",
        "  return model"
      ],
      "metadata": {
        "id": "64tdGVywUu3_"
      },
      "execution_count": null,
      "outputs": []
    },
    {
      "cell_type": "code",
      "source": [
        "#training for VGG16\n",
        "model2 = build_model2()\n",
        "\n",
        "train_history2 = model2.fit(x=x_train, y=y_train, batch_size= BATCH_SIZE, epochs=30, verbose=1)"
      ],
      "metadata": {
        "id": "8fAq_oTFV3q4"
      },
      "execution_count": null,
      "outputs": []
    },
    {
      "cell_type": "code",
      "execution_count": 10,
      "metadata": {
        "id": "l6c7FkfP_UBo",
        "colab": {
          "base_uri": "https://localhost:8080/"
        },
        "outputId": "785648f7-11c5-41af-b005-fdaba70c3aac"
      },
      "outputs": [
        {
          "output_type": "stream",
          "name": "stdout",
          "text": [
            "dict_keys(['loss', 'accuracy', 'val_loss', 'val_accuracy'])\n"
          ]
        }
      ],
      "source": [
        "print(train_history.history.keys())\n",
        "#print(train_history1.history.keys())"
      ]
    },
    {
      "cell_type": "code",
      "execution_count": 11,
      "metadata": {
        "id": "P-BAuDou_Xfg",
        "colab": {
          "base_uri": "https://localhost:8080/",
          "height": 573
        },
        "outputId": "8d61f16e-5fa7-448e-f839-a58412cc1322"
      },
      "outputs": [
        {
          "output_type": "display_data",
          "data": {
            "text/plain": [
              "<Figure size 432x288 with 1 Axes>"
            ],
            "image/png": "[encoded data removed]"
          },
          "metadata": {
            "needs_background": "light"
          }
        },
        {
          "output_type": "display_data",
          "data": {
            "text/plain": [
              "<Figure size 432x288 with 1 Axes>"
            ],
            "image/png": "[encoded data removed]"
          },
          "metadata": {
            "needs_background": "light"
          }
        }
      ],
      "source": [
        "def show_train_history(train_history,train,validation):\n",
        "  \n",
        "  if train == 'accuracy':\n",
        "    plt.plot(train_history.history[train])\n",
        "    plt.plot(train_history.history[validation])\n",
        "    plt.title('Model Accuracy')\n",
        "    plt.ylabel('accuracy')\n",
        "    plt.xlabel('epoch')\n",
        "  else:\n",
        "    plt.plot(train_history.history[train])\n",
        "    plt.plot(train_history.history[validation])\n",
        "    plt.title('Model Loss')\n",
        "    plt.ylabel('loss')\n",
        "    plt.xlabel('epoch')\n",
        "\n",
        "  plt.legend(['train','validation'],loc='upper left')\n",
        "  plt.show()\n",
        "\n",
        "show_train_history(train_history,'accuracy','val_accuracy')\n",
        "show_train_history(train_history,'loss','val_loss')\n",
        "#show_train_history(train_history1,'accuracy','val_accuracy')\n",
        "#show_train_history(train_history1,'loss','val_loss')\n",
        "#show_train_history(train_history2,'accuracy','val_accuracy')\n",
        "#show_train_history(train_history2,'loss','val_loss')\n"
      ]
    },
    {
      "cell_type": "code",
      "execution_count": 12,
      "metadata": {
        "id": "C00pPISM_ayG",
        "colab": {
          "base_uri": "https://localhost:8080/",
          "height": 295
        },
        "outputId": "fab8c8d2-650b-4dec-be3b-767584bc09ea"
      },
      "outputs": [
        {
          "output_type": "display_data",
          "data": {
            "text/plain": [
              "<Figure size 432x288 with 1 Axes>"
            ],
            "image/png": "[encoded data removed]"
          },
          "metadata": {
            "needs_background": "light"
          }
        }
      ],
      "source": [
        "# summarize history for accuracy\n",
        "#x = np.arange(20)\n",
        "plt.plot(train_history.history['accuracy'], label=ResNet50)\n",
        "#plt.plot(x, train_history1.history['accuracy'], label=ResNet152)\n",
        "#plt.plot(train_history2.history['accuracy'], label=VGG16)\n",
        "\n",
        "plt.plot(train_history.history['val_accuracy'])\n",
        "plt.title('model accuracy')\n",
        "plt.ylabel('accuracy')\n",
        "plt.xlabel('epoch')\n",
        "plt.legend(['Training', 'Validation'], loc='lower right') \n",
        "plt.show()"
      ]
    },
    {
      "cell_type": "code",
      "source": [
        "# summarize history for loss\n",
        "# x=np.arange(20)\n",
        "plt.plot(train_history.history['loss'])\n",
        "#plt.plot(train_history1.history['loss'])\n",
        "#plt.plot(train_history2.history['loss'])\n",
        "\n",
        "plt.plot(train_history.history['val_loss'])\n",
        "plt.title('model loss')\n",
        "plt.ylabel('loss')\n",
        "plt.xlabel('epoch')\n",
        "plt.legend(['Training', 'Validation'], loc='upper right') \n",
        "plt.show()"
      ],
      "metadata": {
        "colab": {
          "base_uri": "https://localhost:8080/",
          "height": 295
        },
        "id": "kBTYvHwMTK8L",
        "outputId": "d76e19af-bb83-4cdc-eea1-0b37a4004d23"
      },
      "execution_count": 13,
      "outputs": [
        {
          "output_type": "display_data",
          "data": {
            "text/plain": [
              "<Figure size 432x288 with 1 Axes>"
            ],
            "image/png": "[encoded data removed]"
          },
          "metadata": {
            "needs_background": "light"
          }
        }
      ]
    },
    {
      "cell_type": "code",
      "source": [
        "#testing\n",
        "scores=model.evaluate(x_test1,y_test1)\n",
        "print()\n",
        "print('accuracy:',scores[1])"
      ],
      "metadata": {
        "colab": {
          "base_uri": "https://localhost:8080/"
        },
        "id": "LHXdaIf4eZg2",
        "outputId": "cf2eb3a3-ea55-4448-a187-8921174c17e8"
      },
      "execution_count": 14,
      "outputs": [
        {
          "output_type": "stream",
          "name": "stdout",
          "text": [
            "14/14 [==============================] - 2s 100ms/step - loss: 5.8415 - accuracy: 0.3425\n",
            "\n",
            "accuracy: 0.34246575832366943\n"
          ]
        }
      ]
    }
  ],
  "metadata": {
    "accelerator": "GPU",
    "colab": {
      "collapsed_sections": [],
      "provenance": [],
      "mount_file_id": "1OCoUeo3SSFidOmgBCP4mfcZzmTe1oFA4",
      "authorship_tag": "ABX9TyOnvRLvM+h45pKLMlwOT64k",
      "include_colab_link": true
    },
    "kernelspec": {
      "display_name": "Python 3",
      "name": "python3"
    },
    "language_info": {
      "name": "python"
    }
  },
  "nbformat": 4,
  "nbformat_minor": 0
}