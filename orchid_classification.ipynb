{
  "cells": [
    {
      "cell_type": "markdown",
      "metadata": {
        "id": "view-in-github",
        "colab_type": "text"
      },
      "source": [
        "<a href=\"https://colab.research.google.com/github/monjjjjj/orchid_classification/blob/main/orchid_classification.ipynb\" target=\"_parent\"><img src=\"https://colab.research.google.com/assets/colab-badge.svg\" alt=\"Open In Colab\"/></a>"
      ]
    },
    {
      "cell_type": "code",
      "execution_count": 1,
      "metadata": {
        "id": "RnT0c1rxTfH1"
      },
      "outputs": [],
      "source": [
        "from tensorflow.python import keras\n",
        "import os\n",
        "import numpy as np\n",
        "import pandas as pd\n",
        "import tensorflow as tf\n",
        "import matplotlib.pyplot as plt\n",
        "import cv2 \n",
        "from tensorflow import keras\n",
        "from google.colab import drive\n",
        "from google.colab.patches import cv2_imshow\n",
        "from tensorflow.keras.utils import to_categorical\n",
        "from tensorflow.keras.preprocessing import image_dataset_from_directory\n",
        "from keras.preprocessing.image import ImageDataGenerator\n",
        "from keras import Sequential\n",
        "from keras import initializers, optimizers\n",
        "from keras.layers import Dense, Flatten, Activation, Dropout, Conv2D, MaxPooling2D, BatchNormalization\n",
        "from keras.applications.resnet import ResNet50, ResNet152\n",
        "from sklearn.model_selection import train_test_split\n",
        "from keras.utils import np_utils"
      ]
    },
    {
      "cell_type": "code",
      "execution_count": 2,
      "metadata": {
        "colab": {
          "base_uri": "https://localhost:8080/"
        },
        "id": "BmhKEp0OZqNU",
        "outputId": "bbe605fc-70a3-45b7-fe4c-d4bd1649a19c"
      },
      "outputs": [
        {
          "output_type": "stream",
          "name": "stdout",
          "text": [
            "Drive already mounted at /content/drive; to attempt to forcibly remount, call drive.mount(\"/content/drive\", force_remount=True).\n"
          ]
        }
      ],
      "source": [
        "# google drive mounted\n",
        "drive.mount('/content/drive')"
      ]
    },
    {
      "cell_type": "code",
      "execution_count": 3,
      "metadata": {
        "id": "rw-qgCOEZ22M"
      },
      "outputs": [],
      "source": [
        "# data path\n",
        "train_dir = \"/content/drive/MyDrive/orchid_classification/training/\"\n",
        "label_dir = \"/content/drive/MyDrive/orchid_classification/label/label.csv\"\n",
        "\n",
        "BATCH_SIZE = 32\n",
        "IMG_SIZE = (224, 224)"
      ]
    },
    {
      "cell_type": "code",
      "execution_count": 4,
      "metadata": {
        "id": "vnWhe1PnQFkM"
      },
      "outputs": [],
      "source": [
        "# read data\n",
        "def load_data():\n",
        "  x_train = []\n",
        "  y_train = []\n",
        "  df = pd.read_csv(label_dir, index_col = \"filename\")\n",
        "  for p in os.listdir(train_dir):\n",
        "    if p != \"label.csv\":\n",
        "      path = train_dir + p\n",
        "      image = cv2.imread(path)\n",
        "      image = image.astype(\"float\") / 255.0\n",
        "      image = cv2.resize(image, IMG_SIZE, interpolation = cv2.INTER_AREA)\n",
        "      x_train.append(np.array(image))\n",
        "      y_train.append(df.loc[str(p),\"category\"])\n",
        "  return x_train,y_train\n",
        "\n"
      ]
    },
    {
      "cell_type": "code",
      "execution_count": 5,
      "metadata": {
        "id": "weNI7FkX8n78"
      },
      "outputs": [],
      "source": [
        "# load data\n",
        "x_train, y_train = load_data()\n",
        "\n",
        "# one-hot encoding\n",
        "x_train = np.array(x_train)\n",
        "num_classes = 219\n",
        "y_train = np_utils.to_categorical(y_train, num_classes, dtype = 'float32')"
      ]
    },
    {
      "cell_type": "code",
      "execution_count": null,
      "metadata": {
        "id": "yARZ5qzsdv4E"
      },
      "outputs": [],
      "source": [
        "# debug\n",
        "#print(x_train[1:5])\n",
        "#print(y_train[1:5])\n",
        "#print(x_train.shape)\n",
        "#print(y_train.shape)"
      ]
    },
    {
      "cell_type": "code",
      "source": [
        "# spilt data\n",
        "x_train1, x_test1, y_train1, y_test1 = train_test_split(x_train, y_train, train_size=0.8, test_size=0.2, random_state=0)"
      ],
      "metadata": {
        "id": "tDx8SCtjSiGc"
      },
      "execution_count": null,
      "outputs": []
    },
    {
      "cell_type": "code",
      "execution_count": null,
      "metadata": {
        "id": "O9GhAEGS2Rt0"
      },
      "outputs": [],
      "source": [
        "# autotune\n",
        "'''\n",
        "AUTOTUNE = tf.data.AUTOTUNE\n",
        "train_dataset = train_dataset.prefetch(buffer_size=AUTOTUNE)\n",
        "'''"
      ]
    },
    {
      "cell_type": "code",
      "execution_count": null,
      "metadata": {
        "id": "rImh8Bih2Y4t"
      },
      "outputs": [],
      "source": [
        "'''\n",
        "# data augmentation\n",
        "data_augmentation = tf.keras.Sequential([\n",
        "  tf.keras.layers.experimental.preprocessing.RandomFlip('horizontal'),\n",
        "  tf.keras.layers.experimental.preprocessing.RandomRotation(0.2),\n",
        "])\n",
        "'''"
      ]
    },
    {
      "cell_type": "code",
      "execution_count": null,
      "metadata": {
        "id": "l3uD7ixtF-Fl"
      },
      "outputs": [],
      "source": [
        "'''\n",
        "#data augmentation\n",
        "datagen = ImageDataGenerator(\n",
        "        featurewise_center=False,  # set input mean to 0 over the dataset\n",
        "        samplewise_center=False,  # set each sample mean to 0\n",
        "        featurewise_std_normalization=False,  # divide inputs by std of the dataset\n",
        "        samplewise_std_normalization=False,  # divide each input by its std\n",
        "        zca_whitening=False,  # apply ZCA whitening\n",
        "        rotation_range = 30,  # randomly rotate images in the range (degrees, 0 to 180)\n",
        "        zoom_range = 0.2, # Randomly zoom image \n",
        "        width_shift_range=0.1,  # randomly shift images horizontally (fraction of total width)\n",
        "        height_shift_range=0.1,  # randomly shift images vertically (fraction of total height)\n",
        "        horizontal_flip = True,  # randomly flip images\n",
        "        vertical_flip=False)  # randomly flip images\n",
        "\n",
        "\n",
        "datagen.fit(x_train)\n",
        "'''"
      ]
    },
    {
      "cell_type": "code",
      "execution_count": 6,
      "metadata": {
        "id": "zu1iCGMMgxrY"
      },
      "outputs": [],
      "source": [
        "# build model\n",
        "def build_model():\n",
        "  model = Sequential()\n",
        "  model.add(ResNet50(include_top=False, weights='imagenet', input_tensor=None, pooling='avg', classes=219, input_shape=(224, 224, 3)))\n",
        "  model.add(Flatten())\n",
        "  model.add(Dense(219,activation='softmax'))\n",
        "\n",
        "  model.compile(optimizer='adam', loss='categorical_crossentropy', metrics=['accuracy'])\n",
        "  print(model.summary())\n",
        "  keras.utils.plot_model(model, show_shapes=True, dpi=64, to_file='model2.png')\n",
        "\n",
        "  return model"
      ]
    },
    {
      "cell_type": "code",
      "source": [
        "# build model\n",
        "def build_model1():\n",
        "  model = Sequential()\n",
        "  model.add(ResNet152(include_top=False, weights='imagenet', input_tensor=None, pooling='avg', classes=219, input_shape=(224, 224, 3)))\n",
        "  model.add(Flatten())\n",
        "  model.add(Dense(219,activation='softmax'))\n",
        "\n",
        "  model.compile(optimizer='adam', loss='categorical_crossentropy', metrics=['accuracy'])\n",
        "  print(model.summary())\n",
        "  keras.utils.plot_model(model, show_shapes=True, dpi=64, to_file='model2.png')\n",
        "\n",
        "  return model"
      ],
      "metadata": {
        "id": "5PIiPNl_KMq6"
      },
      "execution_count": 7,
      "outputs": []
    },
    {
      "cell_type": "code",
      "execution_count": 8,
      "metadata": {
        "colab": {
          "base_uri": "https://localhost:8080/"
        },
        "id": "a3Nfqw8CmolJ",
        "outputId": "a2386b8f-ee02-4dd1-c32e-762a9a0ef919"
      },
      "outputs": [
        {
          "output_type": "stream",
          "name": "stdout",
          "text": [
            "Model: \"sequential\"\n",
            "_________________________________________________________________\n",
            " Layer (type)                Output Shape              Param #   \n",
            "=================================================================\n",
            " resnet50 (Functional)       (None, 2048)              23587712  \n",
            "                                                                 \n",
            " flatten (Flatten)           (None, 2048)              0         \n",
            "                                                                 \n",
            " dense (Dense)               (None, 219)               448731    \n",
            "                                                                 \n",
            "=================================================================\n",
            "Total params: 24,036,443\n",
            "Trainable params: 23,983,323\n",
            "Non-trainable params: 53,120\n",
            "_________________________________________________________________\n",
            "None\n",
            "Downloading data from https://storage.googleapis.com/tensorflow/keras-applications/resnet/resnet152_weights_tf_dim_ordering_tf_kernels_notop.h5\n",
            "234700800/234698864 [==============================] - 1s 0us/step\n",
            "234708992/234698864 [==============================] - 1s 0us/step\n",
            "Model: \"sequential_1\"\n",
            "_________________________________________________________________\n",
            " Layer (type)                Output Shape              Param #   \n",
            "=================================================================\n",
            " resnet152 (Functional)      (None, 2048)              58370944  \n",
            "                                                                 \n",
            " flatten_1 (Flatten)         (None, 2048)              0         \n",
            "                                                                 \n",
            " dense_1 (Dense)             (None, 219)               448731    \n",
            "                                                                 \n",
            "=================================================================\n",
            "Total params: 58,819,675\n",
            "Trainable params: 58,668,251\n",
            "Non-trainable params: 151,424\n",
            "_________________________________________________________________\n",
            "None\n",
            "Epoch 1/20\n",
            "69/69 [==============================] - 40s 328ms/step - loss: 5.0937 - accuracy: 0.0507\n",
            "Epoch 2/20\n",
            "69/69 [==============================] - 22s 318ms/step - loss: 3.0006 - accuracy: 0.2648\n",
            "Epoch 3/20\n",
            "69/69 [==============================] - 22s 323ms/step - loss: 1.8467 - accuracy: 0.4822\n",
            "Epoch 4/20\n",
            "69/69 [==============================] - 22s 318ms/step - loss: 1.0292 - accuracy: 0.7091\n",
            "Epoch 5/20\n",
            "69/69 [==============================] - 22s 317ms/step - loss: 0.5524 - accuracy: 0.8493\n",
            "Epoch 6/20\n",
            "69/69 [==============================] - 22s 318ms/step - loss: 0.2815 - accuracy: 0.9219\n",
            "Epoch 7/20\n",
            "69/69 [==============================] - 22s 322ms/step - loss: 0.2191 - accuracy: 0.9484\n",
            "Epoch 8/20\n",
            "69/69 [==============================] - 23s 332ms/step - loss: 0.1260 - accuracy: 0.9671\n",
            "Epoch 9/20\n",
            "69/69 [==============================] - 22s 320ms/step - loss: 0.1106 - accuracy: 0.9721\n",
            "Epoch 10/20\n",
            "69/69 [==============================] - 22s 320ms/step - loss: 0.0901 - accuracy: 0.9790\n",
            "Epoch 11/20\n",
            "69/69 [==============================] - 22s 326ms/step - loss: 0.0392 - accuracy: 0.9922\n",
            "Epoch 12/20\n",
            "69/69 [==============================] - 22s 321ms/step - loss: 0.0582 - accuracy: 0.9863\n",
            "Epoch 13/20\n",
            "69/69 [==============================] - 22s 319ms/step - loss: 0.1051 - accuracy: 0.9758\n",
            "Epoch 14/20\n",
            "69/69 [==============================] - 22s 326ms/step - loss: 0.1445 - accuracy: 0.9667\n",
            "Epoch 15/20\n",
            "69/69 [==============================] - 22s 322ms/step - loss: 0.0960 - accuracy: 0.9767\n",
            "Epoch 16/20\n",
            "69/69 [==============================] - 22s 319ms/step - loss: 0.0449 - accuracy: 0.9918\n",
            "Epoch 17/20\n",
            "69/69 [==============================] - 22s 318ms/step - loss: 0.0175 - accuracy: 0.9963\n",
            "Epoch 18/20\n",
            "69/69 [==============================] - 22s 319ms/step - loss: 0.0070 - accuracy: 0.9986\n",
            "Epoch 19/20\n",
            "69/69 [==============================] - 22s 319ms/step - loss: 0.0110 - accuracy: 0.9977\n",
            "Epoch 20/20\n",
            "69/69 [==============================] - 22s 321ms/step - loss: 0.0178 - accuracy: 0.9959\n",
            "Epoch 1/20\n",
            "69/69 [==============================] - 68s 770ms/step - loss: 5.4037 - accuracy: 0.0205\n",
            "Epoch 2/20\n",
            "69/69 [==============================] - 52s 755ms/step - loss: 4.3184 - accuracy: 0.0648\n",
            "Epoch 3/20\n",
            "69/69 [==============================] - 53s 762ms/step - loss: 3.4551 - accuracy: 0.1571\n",
            "Epoch 4/20\n",
            "69/69 [==============================] - 52s 757ms/step - loss: 2.8761 - accuracy: 0.2475\n",
            "Epoch 5/20\n",
            "69/69 [==============================] - 52s 760ms/step - loss: 2.1977 - accuracy: 0.3927\n",
            "Epoch 6/20\n",
            "69/69 [==============================] - 52s 760ms/step - loss: 1.8803 - accuracy: 0.4758\n",
            "Epoch 7/20\n",
            "69/69 [==============================] - 52s 759ms/step - loss: 1.5102 - accuracy: 0.5763\n",
            "Epoch 8/20\n",
            "69/69 [==============================] - 52s 758ms/step - loss: 1.0414 - accuracy: 0.6895\n",
            "Epoch 9/20\n",
            "69/69 [==============================] - 52s 760ms/step - loss: 0.6788 - accuracy: 0.8114\n",
            "Epoch 10/20\n",
            "69/69 [==============================] - 53s 762ms/step - loss: 0.4472 - accuracy: 0.8740\n",
            "Epoch 11/20\n",
            "69/69 [==============================] - 52s 760ms/step - loss: 0.3243 - accuracy: 0.9105\n",
            "Epoch 12/20\n",
            "69/69 [==============================] - 53s 761ms/step - loss: 0.3153 - accuracy: 0.9078\n",
            "Epoch 13/20\n",
            "69/69 [==============================] - 52s 759ms/step - loss: 0.2320 - accuracy: 0.9352\n",
            "Epoch 14/20\n",
            "69/69 [==============================] - 52s 758ms/step - loss: 0.1750 - accuracy: 0.9539\n",
            "Epoch 15/20\n",
            "69/69 [==============================] - 52s 757ms/step - loss: 0.1014 - accuracy: 0.9763\n",
            "Epoch 16/20\n",
            "69/69 [==============================] - 52s 757ms/step - loss: 0.0567 - accuracy: 0.9881\n",
            "Epoch 17/20\n",
            "69/69 [==============================] - 52s 757ms/step - loss: 0.0483 - accuracy: 0.9886\n",
            "Epoch 18/20\n",
            "69/69 [==============================] - 52s 758ms/step - loss: 0.0490 - accuracy: 0.9904\n",
            "Epoch 19/20\n",
            "69/69 [==============================] - 52s 758ms/step - loss: 0.0573 - accuracy: 0.9872\n",
            "Epoch 20/20\n",
            "69/69 [==============================] - 52s 758ms/step - loss: 0.0732 - accuracy: 0.9840\n"
          ]
        }
      ],
      "source": [
        "#training\n",
        "model = build_model()\n",
        "model1 = build_model1()\n",
        "\n",
        "train_history = model.fit(x=x_train, y=y_train, batch_size= BATCH_SIZE, epochs=20, verbose=1)\n",
        "train_history1 = model1.fit(x=x_train, y=y_train, batch_size= BATCH_SIZE, epochs=20, verbose=1)\n"
      ]
    },
    {
      "cell_type": "code",
      "execution_count": 9,
      "metadata": {
        "id": "l6c7FkfP_UBo",
        "colab": {
          "base_uri": "https://localhost:8080/"
        },
        "outputId": "a05fd081-278a-49f0-ce0a-7a02d18ad927"
      },
      "outputs": [
        {
          "output_type": "stream",
          "name": "stdout",
          "text": [
            "dict_keys(['loss', 'accuracy'])\n",
            "dict_keys(['loss', 'accuracy'])\n"
          ]
        }
      ],
      "source": [
        "print(train_history.history.keys())\n",
        "print(train_history1.history.keys())"
      ]
    },
    {
      "cell_type": "code",
      "execution_count": 10,
      "metadata": {
        "id": "P-BAuDou_Xfg",
        "colab": {
          "base_uri": "https://localhost:8080/",
          "height": 1000
        },
        "outputId": "e0206164-16a4-4b1b-99c0-c542f0591422"
      },
      "outputs": [
        {
          "output_type": "display_data",
          "data": {
            "text/plain": [
              "<Figure size 432x288 with 1 Axes>"
            ],
            "image/png": "[encoded data removed]"
          },
          "metadata": {
            "needs_background": "light"
          }
        },
        {
          "output_type": "display_data",
          "data": {
            "text/plain": [
              "<Figure size 432x288 with 1 Axes>"
            ],
            "image/png": "[encoded data removed]"
          },
          "metadata": {
            "needs_background": "light"
          }
        },
        {
          "output_type": "display_data",
          "data": {
            "text/plain": [
              "<Figure size 432x288 with 1 Axes>"
            ],
            "image/png": "[encoded data removed]"
          },
          "metadata": {
            "needs_background": "light"
          }
        },
        {
          "output_type": "display_data",
          "data": {
            "text/plain": [
              "<Figure size 432x288 with 1 Axes>"
            ],
            "image/png": "[encoded data removed]"
          },
          "metadata": {
            "needs_background": "light"
          }
        }
      ],
      "source": [
        "def show_train_history(train_history,train,validation):\n",
        "  \n",
        "  if train == 'accuracy':\n",
        "    plt.plot(train_history.history[train])\n",
        "    #plt.plot(train_history.history[validation])\n",
        "    plt.title('Model Accuracy')\n",
        "    plt.ylabel('accuracy')\n",
        "    plt.xlabel('epoch')\n",
        "  else:\n",
        "    plt.plot(train_history.history[train])\n",
        "    #plt.plot(train_history.history[validation])\n",
        "    plt.title('Model Loss')\n",
        "    plt.ylabel('loss')\n",
        "    plt.xlabel('epoch')\n",
        "\n",
        "  plt.legend(['train','validation'],loc='upper left')\n",
        "  plt.show()\n",
        "\n",
        "show_train_history(train_history,'accuracy','val_accuracy')\n",
        "show_train_history(train_history,'loss','val_loss')\n",
        "show_train_history(train_history1,'accuracy','val_accuracy')\n",
        "show_train_history(train_history1,'loss','val_loss')"
      ]
    },
    {
      "cell_type": "code",
      "execution_count": 14,
      "metadata": {
        "id": "C00pPISM_ayG",
        "colab": {
          "base_uri": "https://localhost:8080/",
          "height": 295
        },
        "outputId": "9355cfa9-d31b-44a0-9b4b-91cca55d3c5b"
      },
      "outputs": [
        {
          "output_type": "display_data",
          "data": {
            "text/plain": [
              "<Figure size 432x288 with 1 Axes>"
            ],
            "image/png": "[encoded data removed]"
          },
          "metadata": {
            "needs_background": "light"
          }
        }
      ],
      "source": [
        "# summarize history for accuracy\n",
        "x=np.arange(20)\n",
        "plt.plot(x, train_history.history['accuracy'], label=ResNet50)\n",
        "plt.plot(x, train_history1.history['accuracy'], label=ResNet152)\n",
        "\n",
        "#plt.plot(train_history.history['val_accuracy'])\n",
        "plt.title('model accuracy')\n",
        "plt.ylabel('accuracy')\n",
        "plt.xlabel('epoch')\n",
        "plt.legend(['ResNet50', 'ResNet152'], loc='lower right') \n",
        "plt.show()"
      ]
    },
    {
      "cell_type": "code",
      "source": [
        "# summarize history for loss\n",
        "x=np.arange(20)\n",
        "plt.plot(x, train_history.history['loss'])\n",
        "plt.plot(x, train_history1.history['loss'])\n",
        "\n",
        "#plt.plot(train_history.history['val_accuracy'])\n",
        "plt.title('model loss')\n",
        "plt.ylabel('loss')\n",
        "plt.xlabel('epoch')\n",
        "plt.legend(['ResNet50', 'ResNet152'], loc='lower right') \n",
        "plt.show()"
      ],
      "metadata": {
        "colab": {
          "base_uri": "https://localhost:8080/",
          "height": 295
        },
        "id": "kBTYvHwMTK8L",
        "outputId": "65ea751f-aa46-4115-e243-00c4114135cc"
      },
      "execution_count": 15,
      "outputs": [
        {
          "output_type": "display_data",
          "data": {
            "text/plain": [
              "<Figure size 432x288 with 1 Axes>"
            ],
            "image/png": "[encoded data removed]"
          },
          "metadata": {
            "needs_background": "light"
          }
        }
      ]
    }
  ],
  "metadata": {
    "accelerator": "GPU",
    "colab": {
      "collapsed_sections": [],
      "provenance": [],
      "mount_file_id": "1OCoUeo3SSFidOmgBCP4mfcZzmTe1oFA4",
      "authorship_tag": "ABX9TyOvdnKQIjZcfv0KGDihJ4gB",
      "include_colab_link": true
    },
    "kernelspec": {
      "display_name": "Python 3",
      "name": "python3"
    },
    "language_info": {
      "name": "python"
    }
  },
  "nbformat": 4,
  "nbformat_minor": 0
}