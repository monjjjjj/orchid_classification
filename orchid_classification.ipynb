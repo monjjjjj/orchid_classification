{
  "cells": [
    {
      "cell_type": "markdown",
      "metadata": {
        "id": "view-in-github",
        "colab_type": "text"
      },
      "source": [
        "<a href=\"https://colab.research.google.com/github/monjjjjj/orchid_classification/blob/main/orchid_classification.ipynb\" target=\"_parent\"><img src=\"https://colab.research.google.com/assets/colab-badge.svg\" alt=\"Open In Colab\"/></a>"
      ]
    },
    {
      "cell_type": "code",
      "execution_count": 1,
      "metadata": {
        "id": "RnT0c1rxTfH1"
      },
      "outputs": [],
      "source": [
        "from tensorflow.python import keras\n",
        "import os\n",
        "import numpy as np\n",
        "import pandas as pd\n",
        "import tensorflow as tf\n",
        "import matplotlib.pyplot as plt\n",
        "import cv2 \n",
        "from tensorflow import keras\n",
        "from google.colab import drive\n",
        "from google.colab.patches import cv2_imshow\n",
        "from tensorflow.keras.utils import to_categorical\n",
        "from tensorflow.keras.preprocessing import image_dataset_from_directory\n",
        "from keras.preprocessing.image import ImageDataGenerator\n",
        "from keras import Sequential\n",
        "from keras import initializers, optimizers\n",
        "from keras.layers import Dense, Flatten, Activation, Dropout, Conv2D, MaxPooling2D, BatchNormalization\n",
        "from tensorflow.keras.applications.vgg16 import VGG16\n",
        "from keras.applications.resnet import ResNet50, ResNet152\n",
        "from sklearn.model_selection import train_test_split\n",
        "from keras.utils import np_utils"
      ]
    },
    {
      "cell_type": "code",
      "execution_count": 3,
      "metadata": {
        "colab": {
          "base_uri": "https://localhost:8080/"
        },
        "id": "BmhKEp0OZqNU",
        "outputId": "cb329d03-91bd-489c-a403-8cd1cb63a399"
      },
      "outputs": [
        {
          "output_type": "stream",
          "name": "stdout",
          "text": [
            "Drive already mounted at /content/drive; to attempt to forcibly remount, call drive.mount(\"/content/drive\", force_remount=True).\n"
          ]
        }
      ],
      "source": [
        "# google drive mounted\n",
        "drive.mount('/content/drive')"
      ]
    },
    {
      "cell_type": "code",
      "execution_count": 4,
      "metadata": {
        "id": "rw-qgCOEZ22M"
      },
      "outputs": [],
      "source": [
        "# data path\n",
        "train_dir = \"/content/drive/MyDrive/orchid_classification/training/\"\n",
        "label_dir = \"/content/drive/MyDrive/orchid_classification/label/label.csv\"\n",
        "\n",
        "BATCH_SIZE = 32\n",
        "IMG_SIZE = (224, 224)"
      ]
    },
    {
      "cell_type": "code",
      "execution_count": 5,
      "metadata": {
        "id": "vnWhe1PnQFkM"
      },
      "outputs": [],
      "source": [
        "# read data\n",
        "def load_data():\n",
        "  x_train = []\n",
        "  y_train = []\n",
        "  df = pd.read_csv(label_dir, index_col = \"filename\")\n",
        "  for p in os.listdir(train_dir):\n",
        "    if p != \"label.csv\":\n",
        "      path = train_dir + p\n",
        "      image = cv2.imread(path)\n",
        "      image = image.astype(\"float\") / 255.0\n",
        "      image = cv2.resize(image, IMG_SIZE, interpolation = cv2.INTER_AREA)\n",
        "      x_train.append(np.array(image))\n",
        "      y_train.append(df.loc[str(p),\"category\"])\n",
        "  return x_train,y_train\n",
        "\n"
      ]
    },
    {
      "cell_type": "code",
      "execution_count": 6,
      "metadata": {
        "id": "weNI7FkX8n78"
      },
      "outputs": [],
      "source": [
        "# load data\n",
        "x_train, y_train = load_data()\n",
        "\n",
        "# one-hot encoding\n",
        "x_train = np.array(x_train)\n",
        "num_classes = 219\n",
        "y_train = np_utils.to_categorical(y_train, num_classes, dtype = 'float32')"
      ]
    },
    {
      "cell_type": "code",
      "execution_count": null,
      "metadata": {
        "id": "yARZ5qzsdv4E"
      },
      "outputs": [],
      "source": [
        "# debug\n",
        "#print(x_train[1:5])\n",
        "#print(y_train[1:5])\n",
        "#print(x_train.shape)\n",
        "#print(y_train.shape)"
      ]
    },
    {
      "cell_type": "code",
      "source": [
        "# spilt data\n",
        "# 可以用stratify = y_train\n",
        "x_train1, x_test1, y_train1, y_test1 = train_test_split(x_train, y_train, train_size=0.8, test_size=0.2, random_state=0, stratify = y_train)"
      ],
      "metadata": {
        "id": "tDx8SCtjSiGc"
      },
      "execution_count": null,
      "outputs": []
    },
    {
      "cell_type": "code",
      "execution_count": null,
      "metadata": {
        "id": "O9GhAEGS2Rt0"
      },
      "outputs": [],
      "source": [
        "# autotune\n",
        "'''\n",
        "AUTOTUNE = tf.data.AUTOTUNE\n",
        "train_dataset = train_dataset.prefetch(buffer_size=AUTOTUNE)\n",
        "'''"
      ]
    },
    {
      "cell_type": "code",
      "execution_count": null,
      "metadata": {
        "id": "rImh8Bih2Y4t"
      },
      "outputs": [],
      "source": [
        "'''\n",
        "# data augmentation\n",
        "data_augmentation = tf.keras.Sequential([\n",
        "  tf.keras.layers.experimental.preprocessing.RandomFlip('horizontal'),\n",
        "  tf.keras.layers.experimental.preprocessing.RandomRotation(0.2),\n",
        "])\n",
        "'''"
      ]
    },
    {
      "cell_type": "code",
      "execution_count": null,
      "metadata": {
        "id": "l3uD7ixtF-Fl"
      },
      "outputs": [],
      "source": [
        "'''\n",
        "#data augmentation\n",
        "datagen = ImageDataGenerator(\n",
        "        featurewise_center=False,  # set input mean to 0 over the dataset\n",
        "        samplewise_center=False,  # set each sample mean to 0\n",
        "        featurewise_std_normalization=False,  # divide inputs by std of the dataset\n",
        "        samplewise_std_normalization=False,  # divide each input by its std\n",
        "        zca_whitening=False,  # apply ZCA whitening\n",
        "        rotation_range = 30,  # randomly rotate images in the range (degrees, 0 to 180)\n",
        "        zoom_range = 0.2, # Randomly zoom image \n",
        "        width_shift_range=0.1,  # randomly shift images horizontally (fraction of total width)\n",
        "        height_shift_range=0.1,  # randomly shift images vertically (fraction of total height)\n",
        "        horizontal_flip = True,  # randomly flip images\n",
        "        vertical_flip=False)  # randomly flip images\n",
        "\n",
        "\n",
        "datagen.fit(x_train)\n",
        "'''"
      ]
    },
    {
      "cell_type": "code",
      "execution_count": null,
      "metadata": {
        "id": "zu1iCGMMgxrY"
      },
      "outputs": [],
      "source": [
        "# build model for ResNet50\n",
        "def build_model():\n",
        "  model = Sequential()\n",
        "  model.add(ResNet50(include_top=False, weights='imagenet', input_tensor=None, pooling='avg', classes=219, input_shape=(224, 224, 3)))\n",
        "  model.add(Flatten())\n",
        "  model.add(Dense(219,activation='softmax'))\n",
        "\n",
        "  model.compile(optimizer='adam', loss='categorical_crossentropy', metrics=['accuracy'])\n",
        "  print(model.summary())\n",
        "  keras.utils.plot_model(model, show_shapes=True, dpi=64, to_file='model2.png')\n",
        "\n",
        "  return model"
      ]
    },
    {
      "cell_type": "code",
      "source": [
        "# training for ResNet50\n",
        "model = build_model()\n",
        "\n",
        "train_history = model.fit(x=x_train1, y=y_train1, validation_split=0.2, batch_size= BATCH_SIZE, epochs=50, verbose=1)\n"
      ],
      "metadata": {
        "id": "qxZBQjPglCyP",
        "colab": {
          "base_uri": "https://localhost:8080/"
        },
        "outputId": "7ed06725-1f49-41cc-cf26-e9fd390e2b4f"
      },
      "execution_count": null,
      "outputs": [
        {
          "output_type": "stream",
          "name": "stdout",
          "text": [
            "Model: \"sequential_1\"\n",
            "_________________________________________________________________\n",
            " Layer (type)                Output Shape              Param #   \n",
            "=================================================================\n",
            " resnet50 (Functional)       (None, 2048)              23587712  \n",
            "                                                                 \n",
            " flatten_1 (Flatten)         (None, 2048)              0         \n",
            "                                                                 \n",
            " dense_1 (Dense)             (None, 219)               448731    \n",
            "                                                                 \n",
            "=================================================================\n",
            "Total params: 24,036,443\n",
            "Trainable params: 23,983,323\n",
            "Non-trainable params: 53,120\n",
            "_________________________________________________________________\n",
            "None\n",
            "Epoch 1/50\n",
            "44/44 [==============================] - 22s 378ms/step - loss: 5.3937 - accuracy: 0.0450 - val_loss: 257.8582 - val_accuracy: 0.0028\n",
            "Epoch 2/50\n",
            "44/44 [==============================] - 16s 355ms/step - loss: 3.9280 - accuracy: 0.1320 - val_loss: 3799.2227 - val_accuracy: 0.0057\n",
            "Epoch 3/50\n",
            "44/44 [==============================] - 15s 347ms/step - loss: 2.5684 - accuracy: 0.3512 - val_loss: 6.1513 - val_accuracy: 0.0028\n",
            "Epoch 4/50\n",
            "44/44 [==============================] - 15s 344ms/step - loss: 1.5250 - accuracy: 0.5724 - val_loss: 6.1439 - val_accuracy: 0.0057\n",
            "Epoch 5/50\n",
            "44/44 [==============================] - 15s 348ms/step - loss: 0.8771 - accuracy: 0.7659 - val_loss: 10.2730 - val_accuracy: 0.0000e+00\n",
            "Epoch 6/50\n",
            "44/44 [==============================] - 15s 343ms/step - loss: 0.4724 - accuracy: 0.8729 - val_loss: 10.7825 - val_accuracy: 0.0028\n",
            "Epoch 7/50\n",
            "44/44 [==============================] - 15s 349ms/step - loss: 0.2099 - accuracy: 0.9586 - val_loss: 13.6537 - val_accuracy: 0.0028\n",
            "Epoch 8/50\n",
            "44/44 [==============================] - 15s 345ms/step - loss: 0.0995 - accuracy: 0.9779 - val_loss: 9.5046 - val_accuracy: 0.0028\n",
            "Epoch 9/50\n",
            "44/44 [==============================] - 15s 345ms/step - loss: 0.0510 - accuracy: 0.9864 - val_loss: 13.0678 - val_accuracy: 0.0028\n",
            "Epoch 10/50\n",
            "44/44 [==============================] - 15s 344ms/step - loss: 0.0327 - accuracy: 0.9929 - val_loss: 12.4500 - val_accuracy: 0.0028\n",
            "Epoch 11/50\n",
            "44/44 [==============================] - 15s 350ms/step - loss: 0.0219 - accuracy: 0.9979 - val_loss: 11.8515 - val_accuracy: 0.0028\n",
            "Epoch 12/50\n",
            "44/44 [==============================] - 15s 343ms/step - loss: 0.0363 - accuracy: 0.9921 - val_loss: 9.3635 - val_accuracy: 0.0028\n",
            "Epoch 13/50\n",
            "44/44 [==============================] - 15s 349ms/step - loss: 0.1307 - accuracy: 0.9722 - val_loss: 10.6804 - val_accuracy: 0.0028\n",
            "Epoch 14/50\n",
            "44/44 [==============================] - 15s 345ms/step - loss: 0.2927 - accuracy: 0.9236 - val_loss: 22.7318 - val_accuracy: 0.0000e+00\n",
            "Epoch 15/50\n",
            "44/44 [==============================] - 15s 350ms/step - loss: 0.2150 - accuracy: 0.9443 - val_loss: 16.3888 - val_accuracy: 0.0028\n",
            "Epoch 16/50\n",
            "44/44 [==============================] - 15s 344ms/step - loss: 0.1043 - accuracy: 0.9736 - val_loss: 18.3816 - val_accuracy: 0.0085\n",
            "Epoch 17/50\n",
            "44/44 [==============================] - 15s 344ms/step - loss: 0.0648 - accuracy: 0.9850 - val_loss: 18.2818 - val_accuracy: 0.0085\n",
            "Epoch 18/50\n",
            "44/44 [==============================] - 15s 345ms/step - loss: 0.0240 - accuracy: 0.9943 - val_loss: 15.3015 - val_accuracy: 0.0085\n",
            "Epoch 19/50\n",
            "44/44 [==============================] - 15s 345ms/step - loss: 0.0095 - accuracy: 0.9979 - val_loss: 14.0833 - val_accuracy: 0.0171\n",
            "Epoch 20/50\n",
            "44/44 [==============================] - 15s 345ms/step - loss: 0.0024 - accuracy: 1.0000 - val_loss: 11.8298 - val_accuracy: 0.0342\n",
            "Epoch 21/50\n",
            "44/44 [==============================] - 15s 351ms/step - loss: 0.0012 - accuracy: 1.0000 - val_loss: 8.8670 - val_accuracy: 0.0826\n",
            "Epoch 22/50\n",
            "44/44 [==============================] - 15s 346ms/step - loss: 8.7181e-04 - accuracy: 1.0000 - val_loss: 6.1734 - val_accuracy: 0.1766\n",
            "Epoch 23/50\n",
            "44/44 [==============================] - 15s 344ms/step - loss: 4.9367e-04 - accuracy: 1.0000 - val_loss: 4.4591 - val_accuracy: 0.2764\n",
            "Epoch 24/50\n",
            "44/44 [==============================] - 15s 345ms/step - loss: 4.6647e-04 - accuracy: 1.0000 - val_loss: 3.4532 - val_accuracy: 0.3989\n",
            "Epoch 25/50\n",
            "44/44 [==============================] - 15s 350ms/step - loss: 6.0213e-04 - accuracy: 1.0000 - val_loss: 2.9676 - val_accuracy: 0.4444\n",
            "Epoch 26/50\n",
            "44/44 [==============================] - 15s 345ms/step - loss: 3.8567e-04 - accuracy: 1.0000 - val_loss: 2.7182 - val_accuracy: 0.4672\n",
            "Epoch 27/50\n",
            "44/44 [==============================] - 15s 344ms/step - loss: 4.3719e-04 - accuracy: 1.0000 - val_loss: 2.6026 - val_accuracy: 0.4815\n",
            "Epoch 28/50\n",
            "44/44 [==============================] - 15s 345ms/step - loss: 3.3870e-04 - accuracy: 1.0000 - val_loss: 2.5534 - val_accuracy: 0.5157\n",
            "Epoch 29/50\n",
            "44/44 [==============================] - 15s 345ms/step - loss: 2.9432e-04 - accuracy: 1.0000 - val_loss: 2.5290 - val_accuracy: 0.5157\n",
            "Epoch 30/50\n",
            "44/44 [==============================] - 15s 345ms/step - loss: 2.2559e-04 - accuracy: 1.0000 - val_loss: 2.5206 - val_accuracy: 0.5157\n",
            "Epoch 31/50\n",
            "44/44 [==============================] - 15s 345ms/step - loss: 2.4005e-04 - accuracy: 1.0000 - val_loss: 2.5116 - val_accuracy: 0.5157\n",
            "Epoch 32/50\n",
            "44/44 [==============================] - 15s 345ms/step - loss: 2.5765e-04 - accuracy: 1.0000 - val_loss: 2.5131 - val_accuracy: 0.5157\n",
            "Epoch 33/50\n",
            "44/44 [==============================] - 15s 345ms/step - loss: 2.6649e-04 - accuracy: 1.0000 - val_loss: 2.5174 - val_accuracy: 0.5214\n",
            "Epoch 34/50\n",
            "44/44 [==============================] - 15s 345ms/step - loss: 2.0803e-04 - accuracy: 1.0000 - val_loss: 2.5206 - val_accuracy: 0.5185\n",
            "Epoch 35/50\n",
            "44/44 [==============================] - 15s 345ms/step - loss: 2.2400e-04 - accuracy: 1.0000 - val_loss: 2.5258 - val_accuracy: 0.5185\n",
            "Epoch 36/50\n",
            "44/44 [==============================] - 15s 344ms/step - loss: 1.7434e-04 - accuracy: 1.0000 - val_loss: 2.5208 - val_accuracy: 0.5214\n",
            "Epoch 37/50\n",
            "44/44 [==============================] - 15s 345ms/step - loss: 1.5975e-04 - accuracy: 1.0000 - val_loss: 2.5264 - val_accuracy: 0.5214\n",
            "Epoch 38/50\n",
            "44/44 [==============================] - 15s 345ms/step - loss: 1.6640e-04 - accuracy: 1.0000 - val_loss: 2.5338 - val_accuracy: 0.5214\n",
            "Epoch 39/50\n",
            "44/44 [==============================] - 15s 345ms/step - loss: 1.6251e-04 - accuracy: 1.0000 - val_loss: 2.5364 - val_accuracy: 0.5157\n",
            "Epoch 40/50\n",
            "44/44 [==============================] - 15s 345ms/step - loss: 1.4372e-04 - accuracy: 1.0000 - val_loss: 2.5385 - val_accuracy: 0.5185\n",
            "Epoch 41/50\n",
            "44/44 [==============================] - 15s 344ms/step - loss: 1.7139e-04 - accuracy: 1.0000 - val_loss: 2.5431 - val_accuracy: 0.5214\n",
            "Epoch 42/50\n",
            "44/44 [==============================] - 15s 350ms/step - loss: 1.4057e-04 - accuracy: 1.0000 - val_loss: 2.5480 - val_accuracy: 0.5157\n",
            "Epoch 43/50\n",
            "44/44 [==============================] - 15s 350ms/step - loss: 1.0615e-04 - accuracy: 1.0000 - val_loss: 2.5512 - val_accuracy: 0.5185\n",
            "Epoch 44/50\n",
            "44/44 [==============================] - 15s 350ms/step - loss: 1.4543e-04 - accuracy: 1.0000 - val_loss: 2.5599 - val_accuracy: 0.5271\n",
            "Epoch 45/50\n",
            "44/44 [==============================] - 15s 345ms/step - loss: 1.1853e-04 - accuracy: 1.0000 - val_loss: 2.5733 - val_accuracy: 0.5214\n",
            "Epoch 46/50\n",
            "44/44 [==============================] - 15s 350ms/step - loss: 1.1392e-04 - accuracy: 1.0000 - val_loss: 2.5721 - val_accuracy: 0.5271\n",
            "Epoch 47/50\n",
            "44/44 [==============================] - 15s 345ms/step - loss: 1.1372e-04 - accuracy: 1.0000 - val_loss: 2.5809 - val_accuracy: 0.5214\n",
            "Epoch 48/50\n",
            "44/44 [==============================] - 15s 345ms/step - loss: 9.1895e-05 - accuracy: 1.0000 - val_loss: 2.5875 - val_accuracy: 0.5157\n",
            "Epoch 49/50\n",
            "44/44 [==============================] - 15s 345ms/step - loss: 7.6857e-05 - accuracy: 1.0000 - val_loss: 2.5911 - val_accuracy: 0.5185\n",
            "Epoch 50/50\n",
            "44/44 [==============================] - 15s 350ms/step - loss: 7.4610e-05 - accuracy: 1.0000 - val_loss: 2.5926 - val_accuracy: 0.5185\n"
          ]
        }
      ]
    },
    {
      "cell_type": "code",
      "source": [
        "# build model for ResNet152\n",
        "def build_model1():\n",
        "  model = Sequential()\n",
        "  model.add(ResNet152(include_top=False, weights='imagenet', input_tensor=None, pooling='avg', classes=219, input_shape=(224, 224, 3)))\n",
        "  model.add(Flatten())\n",
        "  model.add(Dense(219,activation='softmax'))\n",
        "\n",
        "  model.compile(optimizer='adam', loss='categorical_crossentropy', metrics=['accuracy'])\n",
        "  print(model.summary())\n",
        "  keras.utils.plot_model(model, show_shapes=True, dpi=64, to_file='model2.png')\n",
        "\n",
        "  return model"
      ],
      "metadata": {
        "id": "5PIiPNl_KMq6"
      },
      "execution_count": null,
      "outputs": []
    },
    {
      "cell_type": "code",
      "source": [
        "# training for ResNet152\n",
        "model1 = build_model()\n",
        "\n",
        "train_history1 = model1.fit(x=x_train, y=y_train, batch_size= BATCH_SIZE, epochs=20, verbose=1)\n"
      ],
      "metadata": {
        "id": "4cZqCfAdiv2e"
      },
      "execution_count": null,
      "outputs": []
    },
    {
      "cell_type": "code",
      "source": [
        "# build model for VGG16\n",
        "def build_model2():\n",
        "  model = Sequential()\n",
        "  model.add(VGG16(include_top= False, weights='imagenet', input_tensor=None, pooling='avg', classes=219, input_shape=(224, 224, 3)))\n",
        "  model.add(Flatten())\n",
        "  model.add(Dense(219,activation='softmax'))\n",
        "\n",
        "  model.compile(optimizer='SGD', loss='categorical_crossentropy', metrics=['accuracy'])\n",
        "  print(model.summary())\n",
        "  keras.utils.plot_model(model, show_shapes=True, dpi=64, to_file='model2.png')\n",
        "\n",
        "  return model"
      ],
      "metadata": {
        "id": "64tdGVywUu3_"
      },
      "execution_count": 11,
      "outputs": []
    },
    {
      "cell_type": "code",
      "source": [
        "#training for VGG16\n",
        "model2 = build_model2()\n",
        "\n",
        "train_history2 = model2.fit(x=x_train, y=y_train, batch_size= BATCH_SIZE, epochs=30, verbose=1)"
      ],
      "metadata": {
        "id": "8fAq_oTFV3q4",
        "colab": {
          "base_uri": "https://localhost:8080/"
        },
        "outputId": "52901652-6585-4785-faaf-5903624ca0da"
      },
      "execution_count": 13,
      "outputs": [
        {
          "output_type": "stream",
          "name": "stdout",
          "text": [
            "Model: \"sequential_3\"\n",
            "_________________________________________________________________\n",
            " Layer (type)                Output Shape              Param #   \n",
            "=================================================================\n",
            " vgg16 (Functional)          (None, 512)               14714688  \n",
            "                                                                 \n",
            " flatten_2 (Flatten)         (None, 512)               0         \n",
            "                                                                 \n",
            " dense_2 (Dense)             (None, 219)               112347    \n",
            "                                                                 \n",
            "=================================================================\n",
            "Total params: 14,827,035\n",
            "Trainable params: 14,827,035\n",
            "Non-trainable params: 0\n",
            "_________________________________________________________________\n",
            "None\n",
            "Epoch 1/30\n",
            "69/69 [==============================] - 31s 440ms/step - loss: 5.4229 - accuracy: 0.0055\n",
            "Epoch 2/30\n",
            "69/69 [==============================] - 30s 439ms/step - loss: 5.3152 - accuracy: 0.0210\n",
            "Epoch 3/30\n",
            "69/69 [==============================] - 30s 434ms/step - loss: 5.1196 - accuracy: 0.0292\n",
            "Epoch 4/30\n",
            "69/69 [==============================] - 30s 441ms/step - loss: 4.9234 - accuracy: 0.0461\n",
            "Epoch 5/30\n",
            "69/69 [==============================] - 30s 437ms/step - loss: 4.4945 - accuracy: 0.0644\n",
            "Epoch 6/30\n",
            "69/69 [==============================] - 30s 438ms/step - loss: 3.8923 - accuracy: 0.1265\n",
            "Epoch 7/30\n",
            "69/69 [==============================] - 30s 439ms/step - loss: 3.4657 - accuracy: 0.1763\n",
            "Epoch 8/30\n",
            "69/69 [==============================] - 30s 438ms/step - loss: 3.0293 - accuracy: 0.2466\n",
            "Epoch 9/30\n",
            "69/69 [==============================] - 30s 437ms/step - loss: 2.6630 - accuracy: 0.3160\n",
            "Epoch 10/30\n",
            "69/69 [==============================] - 30s 438ms/step - loss: 2.4754 - accuracy: 0.3699\n",
            "Epoch 11/30\n",
            "69/69 [==============================] - 30s 439ms/step - loss: 1.8820 - accuracy: 0.5000\n",
            "Epoch 12/30\n",
            "69/69 [==============================] - 30s 439ms/step - loss: 1.8349 - accuracy: 0.5096\n",
            "Epoch 13/30\n",
            "69/69 [==============================] - 30s 439ms/step - loss: 1.0993 - accuracy: 0.7046\n",
            "Epoch 14/30\n",
            "69/69 [==============================] - 30s 439ms/step - loss: 1.0969 - accuracy: 0.6973\n",
            "Epoch 15/30\n",
            "69/69 [==============================] - 30s 440ms/step - loss: 1.0895 - accuracy: 0.7068\n",
            "Epoch 16/30\n",
            "69/69 [==============================] - 30s 439ms/step - loss: 0.7619 - accuracy: 0.8037\n",
            "Epoch 17/30\n",
            "69/69 [==============================] - 30s 439ms/step - loss: 0.3385 - accuracy: 0.9164\n",
            "Epoch 18/30\n",
            "69/69 [==============================] - 30s 439ms/step - loss: 0.2228 - accuracy: 0.9438\n",
            "Epoch 19/30\n",
            "69/69 [==============================] - 30s 440ms/step - loss: 0.2223 - accuracy: 0.9438\n",
            "Epoch 20/30\n",
            "69/69 [==============================] - 30s 439ms/step - loss: 0.0721 - accuracy: 0.9836\n",
            "Epoch 21/30\n",
            "69/69 [==============================] - 30s 439ms/step - loss: 0.0627 - accuracy: 0.9872\n",
            "Epoch 22/30\n",
            "69/69 [==============================] - 30s 438ms/step - loss: 1.6109 - accuracy: 0.6950\n",
            "Epoch 23/30\n",
            "69/69 [==============================] - 30s 439ms/step - loss: 0.4429 - accuracy: 0.8904\n",
            "Epoch 24/30\n",
            "69/69 [==============================] - 30s 439ms/step - loss: 0.4967 - accuracy: 0.8968\n",
            "Epoch 25/30\n",
            "69/69 [==============================] - 30s 439ms/step - loss: 0.1819 - accuracy: 0.9530\n",
            "Epoch 26/30\n",
            "69/69 [==============================] - 30s 439ms/step - loss: 0.0297 - accuracy: 0.9932\n",
            "Epoch 27/30\n",
            "69/69 [==============================] - 30s 439ms/step - loss: 0.0138 - accuracy: 0.9968\n",
            "Epoch 28/30\n",
            "69/69 [==============================] - 30s 439ms/step - loss: 0.0018 - accuracy: 1.0000\n",
            "Epoch 29/30\n",
            "69/69 [==============================] - 30s 439ms/step - loss: 6.7188e-04 - accuracy: 1.0000\n",
            "Epoch 30/30\n",
            "69/69 [==============================] - 30s 439ms/step - loss: 4.7667e-04 - accuracy: 1.0000\n"
          ]
        }
      ]
    },
    {
      "cell_type": "code",
      "execution_count": 14,
      "metadata": {
        "id": "l6c7FkfP_UBo",
        "colab": {
          "base_uri": "https://localhost:8080/"
        },
        "outputId": "fa10002d-1198-40d8-b05a-06e854f1e6b4"
      },
      "outputs": [
        {
          "output_type": "stream",
          "name": "stdout",
          "text": [
            "dict_keys(['loss', 'accuracy'])\n"
          ]
        }
      ],
      "source": [
        "print(train_history2.history.keys())\n",
        "#print(train_history1.history.keys())"
      ]
    },
    {
      "cell_type": "code",
      "execution_count": 16,
      "metadata": {
        "id": "P-BAuDou_Xfg",
        "colab": {
          "base_uri": "https://localhost:8080/",
          "height": 573
        },
        "outputId": "b25aeff0-5465-4d75-90f7-614bf4fc3807"
      },
      "outputs": [
        {
          "output_type": "display_data",
          "data": {
            "text/plain": [
              "<Figure size 432x288 with 1 Axes>"
            ],
            "image/png": "[encoded data removed]"
          },
          "metadata": {
            "needs_background": "light"
          }
        },
        {
          "output_type": "display_data",
          "data": {
            "text/plain": [
              "<Figure size 432x288 with 1 Axes>"
            ],
            "image/png": "[encoded data removed]"
          },
          "metadata": {
            "needs_background": "light"
          }
        }
      ],
      "source": [
        "def show_train_history(train_history,train,validation):\n",
        "  \n",
        "  if train == 'accuracy':\n",
        "    plt.plot(train_history.history[train])\n",
        "    #plt.plot(train_history.history[validation])\n",
        "    plt.title('Model Accuracy')\n",
        "    plt.ylabel('accuracy')\n",
        "    plt.xlabel('epoch')\n",
        "  else:\n",
        "    plt.plot(train_history.history[train])\n",
        "    #plt.plot(train_history.history[validation])\n",
        "    plt.title('Model Loss')\n",
        "    plt.ylabel('loss')\n",
        "    plt.xlabel('epoch')\n",
        "\n",
        "  plt.legend(['train','validation'],loc='upper left')\n",
        "  plt.show()\n",
        "\n",
        "show_train_history(train_history2,'accuracy','val_accuracy')\n",
        "show_train_history(train_history2,'loss','val_loss')\n",
        "#show_train_history(train_history1,'accuracy','val_accuracy')\n",
        "#show_train_history(train_history1,'loss','val_loss')"
      ]
    },
    {
      "cell_type": "code",
      "execution_count": 21,
      "metadata": {
        "id": "C00pPISM_ayG",
        "colab": {
          "base_uri": "https://localhost:8080/",
          "height": 295
        },
        "outputId": "aa194a78-2bfe-4eef-ffe8-f3d6d76d5275"
      },
      "outputs": [
        {
          "output_type": "display_data",
          "data": {
            "text/plain": [
              "<Figure size 432x288 with 1 Axes>"
            ],
            "image/png": "[encoded data removed]"
          },
          "metadata": {
            "needs_background": "light"
          }
        }
      ],
      "source": [
        "# summarize history for accuracy\n",
        "#x = np.arange(20)\n",
        "plt.plot(train_history2.history['accuracy'], label=VGG16)\n",
        "#plt.plot(x, train_history1.history['accuracy'], label=ResNet152)\n",
        "\n",
        "#plt.plot(train_history2.history['val_accuracy'])\n",
        "plt.title('model accuracy')\n",
        "plt.ylabel('accuracy')\n",
        "plt.xlabel('epoch')\n",
        "plt.legend(['VGG16', 'ResNet152'], loc='lower right') \n",
        "plt.show()"
      ]
    },
    {
      "cell_type": "code",
      "source": [
        "# summarize history for loss\n",
        "# x=np.arange(20)\n",
        "#plt.plot(train_history.history['loss'])\n",
        "#plt.plot(train_history1.history['loss'])\n",
        "plt.plot(train_history2.history['loss'])\n",
        "\n",
        "#plt.plot(train_history.history['val_accuracy'])\n",
        "plt.title('model loss')\n",
        "plt.ylabel('loss')\n",
        "plt.xlabel('epoch')\n",
        "plt.legend(['VGG16', 'ResNet152'], loc='upper right') \n",
        "plt.show()"
      ],
      "metadata": {
        "colab": {
          "base_uri": "https://localhost:8080/",
          "height": 295
        },
        "id": "kBTYvHwMTK8L",
        "outputId": "19bdaa86-ec6b-4cf5-f5b0-91835bbd6008"
      },
      "execution_count": 20,
      "outputs": [
        {
          "output_type": "display_data",
          "data": {
            "text/plain": [
              "<Figure size 432x288 with 1 Axes>"
            ],
            "image/png": "[encoded data removed]"
          },
          "metadata": {
            "needs_background": "light"
          }
        }
      ]
    }
  ],
  "metadata": {
    "accelerator": "GPU",
    "colab": {
      "collapsed_sections": [],
      "provenance": [],
      "mount_file_id": "1OCoUeo3SSFidOmgBCP4mfcZzmTe1oFA4",
      "authorship_tag": "ABX9TyOv0T6PjwJYFJKsjqap/YrP",
      "include_colab_link": true
    },
    "kernelspec": {
      "display_name": "Python 3",
      "name": "python3"
    },
    "language_info": {
      "name": "python"
    }
  },
  "nbformat": 4,
  "nbformat_minor": 0
}